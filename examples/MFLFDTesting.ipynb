{
 "cells": [
  {
   "cell_type": "code",
   "execution_count": 1,
   "metadata": {},
   "outputs": [],
   "source": [
    "import pandas as pd\n",
    "import numpy as np\n",
    "from sklearn.metrics import pairwise_distances\n",
    "from scipy.spatial import distance\n",
    "import matplotlib.pyplot as plt\n",
    "import math\n",
    "from scipy.spatial.distance import pdist \n",
    "\n",
    "from lenskit.datasets import ML100K, MovieLens\n",
    "from lenskit.algorithms import Recommender, als\n",
    "\n",
    "import trecs\n",
    "from trecs.models import ImplicitMF, ImplicitMFLFD, ContentFiltering\n",
    "from trecs.random import Generator\n",
    "from trecs.metrics import MSEMeasurement, AverageFeatureScoreRange, RecSimilarity, InteractionSimilarity\n"
   ]
  },
  {
   "cell_type": "code",
   "execution_count": 2,
   "metadata": {},
   "outputs": [],
   "source": [
    "GENERATOR = np.random.default_rng(1234)"
   ]
  },
  {
   "cell_type": "code",
   "execution_count": 3,
   "metadata": {},
   "outputs": [],
   "source": [
    "# basically just recommends items based on the estimates of user preferences!\n",
    "# this will form the basis of our \"ideal\" recommender\n",
    "class IdealRecommender(ContentFiltering):\n",
    "    def _update_internal_state(self, interactions):\n",
    "        # do not change users_hat! \n",
    "        pass\n",
    "    \n",
    "    def process_new_items(self, new_items):\n",
    "        \"\"\"\n",
    "        Generate zero attributes for new items. Remember,\n",
    "        this doesn't actually matter because the IdealRecommender\n",
    "        uses its perfect score function, not\n",
    "        \"\"\"\n",
    "        num_items = new_items.shape[1]\n",
    "        num_attr = self.items_hat.shape[0]\n",
    "        item_representation = GENERATOR.random((num_attr, num_items))\n",
    "        return item_representation\n",
    "\n",
    "# random recommender - randomly update users at every step\n",
    "class RandomRecommender(ContentFiltering):\n",
    "    def _update_internal_state(self, interactions):\n",
    "        self.items_hat[:, :] = GENERATOR.random(self.items_hat.shape)\n",
    "        self.users_hat[:, :] = GENERATOR.random(self.users_hat.shape)\n",
    "        \n",
    "    def process_new_items(self, new_items):\n",
    "        \"\"\"\n",
    "        Generate random attributes for new items.\n",
    "        \"\"\"\n",
    "        num_items = new_items.shape[1]\n",
    "        num_attr = self.items_hat.shape[0]\n",
    "        item_representation = GENERATOR.random((num_attr, num_items))\n",
    "        return item_representation"
   ]
  },
  {
   "cell_type": "code",
   "execution_count": 4,
   "metadata": {},
   "outputs": [],
   "source": [
    "model_params = {'iterations': 100}\n",
    "# NUM_USERS = 500\n",
    "# NUM_ITEMS= 1000\n",
    "# N_FACTORS = 15\n",
    "\n",
    "NUM_USERS = 100\n",
    "NUM_ITEMS = 10000\n",
    "N_FACTORS = 10\n",
    "NUM_STEPS = 100\n",
    "js_pairs = [(u1_idx, u2_idx) for u1_idx in range(NUM_USERS) for u2_idx in range(NUM_USERS) if u1_idx != u2_idx] \n",
    "\n"
   ]
  },
  {
   "cell_type": "code",
   "execution_count": 17,
   "metadata": {},
   "outputs": [],
   "source": [
    "# user_representation = Generator().binomial(\n",
    "#     n=1, p=.3, size=(NUM_USERS, N_FACTORS)\n",
    "# )\n",
    "\n",
    "# item_representation = Generator().binomial(\n",
    "#     n=1, p=.3, size=(N_FACTORS, NUM_ITEMS)\n",
    "# )\n",
    "# # Initialize with custom representations\n",
    "# filtering = ContentFiltering(user_representation=user_representation,\n",
    "#                             item_representation=item_representation)\n",
    "\n",
    "# filtering.add_metrics(AverageFeatureScoreRange())\n",
    "# filtering.run(10)\n",
    "\n",
    "# filtering.get_measurements()\n"
   ]
  },
  {
   "cell_type": "code",
   "execution_count": 18,
   "metadata": {},
   "outputs": [],
   "source": [
    "# filtering.items_hat.all() in [0,1]"
   ]
  },
  {
   "cell_type": "code",
   "execution_count": 5,
   "metadata": {},
   "outputs": [
    {
     "name": "stderr",
     "output_type": "stream",
     "text": [
      "100%|██████████| 20/20 [00:01<00:00, 14.19it/s]\n",
      "/Users/amywinecoff/Documents/CITP/Research/Github/t-recs/trecs/models/mf.py:262: UserWarning: train_between_steps is set to True. Note that, at each step, this overwrites the MF model with a model fit only to the latest interaction. To avoid this behavior, set train_between_steps to False.\n",
      "  \"train_between_steps is set to True. Note that, at each step, this \"\n",
      "100%|██████████| 100/100 [01:51<00:00,  1.12s/it]\n"
     ]
    }
   ],
   "source": [
    "mf = ImplicitMF(num_users=NUM_USERS, num_items=NUM_ITEMS, num_latent_factors=N_FACTORS, num_items_per_iter=10)\n",
    "                #model_params=model_params)\n",
    "mf.add_metrics(MSEMeasurement())\n",
    "mf.add_metrics(AverageFeatureScoreRange())\n",
    "#mf.add_metrics(RecSimilarity(pairs=js_pairs))\n",
    "mf.add_metrics(InteractionSimilarity(pairs=js_pairs))\n",
    "mf.startup_and_train(20)\n",
    "mf.run(timesteps=NUM_STEPS, train_between_steps=True, reset_interactions=False)\n",
    "#mf.run(timesteps=NUM_STEPS)"
   ]
  },
  {
   "cell_type": "code",
   "execution_count": 6,
   "metadata": {},
   "outputs": [
    {
     "name": "stderr",
     "output_type": "stream",
     "text": [
      "100%|██████████| 20/20 [00:01<00:00, 13.79it/s]\n",
      "100%|██████████| 100/100 [02:04<00:00,  1.24s/it]\n"
     ]
    }
   ],
   "source": [
    "mflfd = ImplicitMFLFD(num_users=NUM_USERS, num_items=NUM_ITEMS, num_latent_factors=N_FACTORS, num_items_per_iter=10,\n",
    "                     top_n_limit=50) \n",
    "                     # model_params=model_params)\n",
    "mflfd.add_metrics(MSEMeasurement())\n",
    "mflfd.add_metrics(AverageFeatureScoreRange())\n",
    "#mflfd.add_metrics(RecSimilarity(pairs=js_pairs))\n",
    "mflfd.add_metrics(InteractionSimilarity(pairs=js_pairs))\n",
    "mflfd.startup_and_train(20)\n",
    "mflfd.run(timesteps=NUM_STEPS, train_between_steps=True, reset_interactions=False)\n",
    "#mflfd.run(timesteps=NUM_STEPS)"
   ]
  },
  {
   "cell_type": "code",
   "execution_count": 7,
   "metadata": {},
   "outputs": [],
   "source": [
    "mflfd_metrics = pd.DataFrame(mflfd.get_measurements())\n",
    "mf_metrics = pd.DataFrame(mf.get_measurements())"
   ]
  },
  {
   "cell_type": "code",
   "execution_count": 35,
   "metadata": {},
   "outputs": [
    {
     "data": {
      "text/plain": [
       "{'mse': [None,\n",
       "  1.949108171590618,\n",
       "  1.949108171590618,\n",
       "  1.949108171590618,\n",
       "  1.949108171590618,\n",
       "  1.949108171590618,\n",
       "  1.949108171590618,\n",
       "  1.949108171590618,\n",
       "  1.949108171590618,\n",
       "  1.949108171590618,\n",
       "  1.949108171590618,\n",
       "  1.949108171590618,\n",
       "  1.949108171590618,\n",
       "  1.949108171590618,\n",
       "  1.949108171590618,\n",
       "  1.949108171590618,\n",
       "  1.949108171590618,\n",
       "  1.949108171590618,\n",
       "  1.949108171590618,\n",
       "  1.949108171590618,\n",
       "  1.949108171590618,\n",
       "  1.786814239422395,\n",
       "  1.7449562386421542,\n",
       "  1.709922328153014,\n",
       "  1.6426234566320708,\n",
       "  1.6438957219450323,\n",
       "  1.6158658261904197,\n",
       "  1.6166047240459966,\n",
       "  1.6046262200380073,\n",
       "  1.5980663445433128,\n",
       "  1.609332994039964,\n",
       "  1.5589675415935937,\n",
       "  1.5385599072397917,\n",
       "  1.5237710993396383,\n",
       "  1.553270870823523,\n",
       "  1.5135434591901826,\n",
       "  1.4902999902296068,\n",
       "  1.4695011791172776,\n",
       "  1.4829971026008941,\n",
       "  1.471502322100946,\n",
       "  1.4666668678563224,\n",
       "  1.4247833482751737,\n",
       "  1.439292688482119,\n",
       "  1.4460652321256677,\n",
       "  1.4473607645369289,\n",
       "  1.4595199628454167,\n",
       "  1.4114187231711417,\n",
       "  1.4273238875601921,\n",
       "  1.4280151851042862,\n",
       "  1.4057737685576794,\n",
       "  1.4352663273689767,\n",
       "  1.4118051960328337,\n",
       "  1.3923322616060863,\n",
       "  1.4043909002757673,\n",
       "  1.4167821394669233,\n",
       "  1.3901778302042491,\n",
       "  1.4185093841702334,\n",
       "  1.401285702094481,\n",
       "  1.3714064258251013,\n",
       "  1.3908797779759843,\n",
       "  1.3987775063995513,\n",
       "  1.3914353677652265,\n",
       "  1.3891764967541904,\n",
       "  1.3788692864827339,\n",
       "  1.3974296271597768,\n",
       "  1.3812727581941788,\n",
       "  1.3884748716660926,\n",
       "  1.3792455651708269,\n",
       "  1.3737128300873365,\n",
       "  1.367858702622386,\n",
       "  1.3823627469101885,\n",
       "  1.3766700471143978,\n",
       "  1.3872614736122124,\n",
       "  1.3655638469409852,\n",
       "  1.3796713818724664,\n",
       "  1.3701082305709298,\n",
       "  1.3744774061612293,\n",
       "  1.373000381196822,\n",
       "  1.3704929368726735,\n",
       "  1.3736467068814981,\n",
       "  1.3690800533049627,\n",
       "  1.3685819085660533,\n",
       "  1.3672972756929107,\n",
       "  1.3835797073347613,\n",
       "  1.3708800780331443,\n",
       "  1.371824738399568,\n",
       "  1.3620429631719042,\n",
       "  1.3670841380300067,\n",
       "  1.3733782903540281,\n",
       "  1.3737128869023376,\n",
       "  1.3608011341864246,\n",
       "  1.3707920483769818,\n",
       "  1.3612425955563712,\n",
       "  1.3649803284455786,\n",
       "  1.3646554651895038,\n",
       "  1.3769584227047407,\n",
       "  1.365364733631337,\n",
       "  1.370993799436762,\n",
       "  1.369175664575856,\n",
       "  1.3695725750494636,\n",
       "  1.3702782700114975,\n",
       "  1.3544196023576625,\n",
       "  1.3714735754753358,\n",
       "  1.3602972419283006,\n",
       "  1.366779691711405,\n",
       "  1.3631190866607696,\n",
       "  1.3592571683722594,\n",
       "  1.3670093896392246,\n",
       "  1.3582329017565484,\n",
       "  1.3656241458541738,\n",
       "  1.3640225014924643,\n",
       "  1.3637787688388001,\n",
       "  1.373129541881349,\n",
       "  1.3553918470495807,\n",
       "  1.3605692286748083,\n",
       "  1.3428058578439286,\n",
       "  1.3612928553932597,\n",
       "  1.3562889492347012,\n",
       "  1.3400344188479134,\n",
       "  1.3633730557553632,\n",
       "  1.366118745459019],\n",
       " 'afsr': [None,\n",
       "  array(5.08173985),\n",
       "  array(4.90788603),\n",
       "  array(5.01762869),\n",
       "  array(5.06607267),\n",
       "  array(5.04282786),\n",
       "  array(4.98279253),\n",
       "  array(4.96475754),\n",
       "  array(5.03063049),\n",
       "  array(4.94721558),\n",
       "  array(4.98110909),\n",
       "  array(4.90476797),\n",
       "  array(5.07313041),\n",
       "  array(4.93686648),\n",
       "  array(5.11849357),\n",
       "  array(4.98749907),\n",
       "  array(4.93571718),\n",
       "  array(5.05410385),\n",
       "  array(5.04009303),\n",
       "  array(5.14055126),\n",
       "  array(4.98244787),\n",
       "  array(3.15007633),\n",
       "  array(3.84435962),\n",
       "  array(3.76883946),\n",
       "  array(3.96384227),\n",
       "  array(3.84434293),\n",
       "  array(3.88284787),\n",
       "  array(3.92781474),\n",
       "  array(3.99109167),\n",
       "  array(3.93089859),\n",
       "  array(3.97900534),\n",
       "  array(4.10158554),\n",
       "  array(4.12360095),\n",
       "  array(4.18999),\n",
       "  array(4.16668805),\n",
       "  array(4.09694378),\n",
       "  array(4.09992276),\n",
       "  array(4.05359651),\n",
       "  array(3.86637148),\n",
       "  array(4.01553373),\n",
       "  array(4.1909015),\n",
       "  array(4.061878),\n",
       "  array(4.06467546),\n",
       "  array(3.98247558),\n",
       "  array(4.13487815),\n",
       "  array(4.04186784),\n",
       "  array(3.90740524),\n",
       "  array(3.90427671),\n",
       "  array(3.89936904),\n",
       "  array(3.84960931),\n",
       "  array(3.97249024),\n",
       "  array(3.96103263),\n",
       "  array(3.90201704),\n",
       "  array(3.85130757),\n",
       "  array(3.80654764),\n",
       "  array(3.93084438),\n",
       "  array(4.03717286),\n",
       "  array(4.14750731),\n",
       "  array(4.20241067),\n",
       "  array(3.97521253),\n",
       "  array(4.17372271),\n",
       "  array(3.95692248),\n",
       "  array(4.05480285),\n",
       "  array(4.10801008),\n",
       "  array(4.15125732),\n",
       "  array(4.11780881),\n",
       "  array(4.2930131),\n",
       "  array(4.32973952),\n",
       "  array(4.11861071),\n",
       "  array(4.04154177),\n",
       "  array(4.04705846),\n",
       "  array(3.93430387),\n",
       "  array(3.98699887),\n",
       "  array(3.95015367),\n",
       "  array(3.82890991),\n",
       "  array(3.89203579),\n",
       "  array(3.88977453),\n",
       "  array(4.02375017),\n",
       "  array(3.95777697),\n",
       "  array(3.98301228),\n",
       "  array(4.03225582),\n",
       "  array(3.86489983),\n",
       "  array(3.85398023),\n",
       "  array(3.95106343),\n",
       "  array(3.76378531),\n",
       "  array(3.90591996),\n",
       "  array(3.775142),\n",
       "  array(3.57575882),\n",
       "  array(3.7544702),\n",
       "  array(3.51838254),\n",
       "  array(3.65537775),\n",
       "  array(3.05348566),\n",
       "  array(3.28344292),\n",
       "  array(3.39267644),\n",
       "  array(3.40617251),\n",
       "  array(3.17815594),\n",
       "  array(3.06883279),\n",
       "  array(3.16856915),\n",
       "  array(2.94685532),\n",
       "  array(3.54860219),\n",
       "  array(3.00758918),\n",
       "  array(3.5039635),\n",
       "  array(3.24987285),\n",
       "  array(3.30689729),\n",
       "  array(3.35455547),\n",
       "  array(3.42254712),\n",
       "  array(3.13060552),\n",
       "  array(3.269537),\n",
       "  array(2.91099276),\n",
       "  array(3.10952023),\n",
       "  array(3.85299781),\n",
       "  array(3.41325521),\n",
       "  array(3.14901051),\n",
       "  array(3.27307688),\n",
       "  array(3.46650885),\n",
       "  array(3.5182544),\n",
       "  array(3.48825946),\n",
       "  array(3.19937307),\n",
       "  array(3.4404396),\n",
       "  array(3.23156395),\n",
       "  array(2.41361896)],\n",
       " 'interaction_similarity': [None,\n",
       "  array(0.),\n",
       "  array(0.00020202),\n",
       "  array(0.00016162),\n",
       "  array(0.00020202),\n",
       "  array(0.00029181),\n",
       "  array(0.00040404),\n",
       "  array(0.0004662),\n",
       "  array(0.00053872),\n",
       "  array(0.00053476),\n",
       "  array(0.00063796),\n",
       "  array(0.00073497),\n",
       "  array(0.00080289),\n",
       "  array(0.00086902),\n",
       "  array(0.00089501),\n",
       "  array(0.00095265),\n",
       "  array(0.00099817),\n",
       "  array(0.00106867),\n",
       "  array(0.00117062),\n",
       "  array(0.00120736),\n",
       "  array(0.00127632),\n",
       "  array(0.00234956),\n",
       "  array(0.00290516),\n",
       "  array(0.00321739),\n",
       "  array(0.00329192),\n",
       "  array(0.00336619),\n",
       "  array(0.00345198),\n",
       "  array(0.00354055),\n",
       "  array(0.00357791),\n",
       "  array(0.0036952),\n",
       "  array(0.00380172),\n",
       "  array(0.00380059),\n",
       "  array(0.00381324),\n",
       "  array(0.00383334),\n",
       "  array(0.00394092),\n",
       "  array(0.00393088),\n",
       "  array(0.00391189),\n",
       "  array(0.00391908),\n",
       "  array(0.0039425),\n",
       "  array(0.00397748),\n",
       "  array(0.00401638),\n",
       "  array(0.00400294),\n",
       "  array(0.0040081),\n",
       "  array(0.00399066),\n",
       "  array(0.00396204),\n",
       "  array(0.00396013),\n",
       "  array(0.00397273),\n",
       "  array(0.00398863),\n",
       "  array(0.00400373),\n",
       "  array(0.00398584),\n",
       "  array(0.00395649),\n",
       "  array(0.00395472),\n",
       "  array(0.0040223),\n",
       "  array(0.00400564),\n",
       "  array(0.00400878),\n",
       "  array(0.00400464),\n",
       "  array(0.00402809),\n",
       "  array(0.00402879),\n",
       "  array(0.00403848),\n",
       "  array(0.0040445),\n",
       "  array(0.00403139),\n",
       "  array(0.00402033),\n",
       "  array(0.00405159),\n",
       "  array(0.00409891),\n",
       "  array(0.00408094),\n",
       "  array(0.00406994),\n",
       "  array(0.00405166),\n",
       "  array(0.00403506),\n",
       "  array(0.00403109),\n",
       "  array(0.00403517),\n",
       "  array(0.00401417),\n",
       "  array(0.0040077),\n",
       "  array(0.00400746),\n",
       "  array(0.00400855),\n",
       "  array(0.0040056),\n",
       "  array(0.00399966),\n",
       "  array(0.00398311),\n",
       "  array(0.0039818),\n",
       "  array(0.00397769),\n",
       "  array(0.00397912),\n",
       "  array(0.00397714),\n",
       "  array(0.00397836),\n",
       "  array(0.00396317),\n",
       "  array(0.00397739),\n",
       "  array(0.0040362),\n",
       "  array(0.00409391),\n",
       "  array(0.00419056),\n",
       "  array(0.00429115),\n",
       "  array(0.00437663),\n",
       "  array(0.00454879),\n",
       "  array(0.00470394),\n",
       "  array(0.0047964),\n",
       "  array(0.00491727),\n",
       "  array(0.00499049),\n",
       "  array(0.00508943),\n",
       "  array(0.00520625),\n",
       "  array(0.00531095),\n",
       "  array(0.00532907),\n",
       "  array(0.00542827),\n",
       "  array(0.00551396),\n",
       "  array(0.00560515),\n",
       "  array(0.00570487),\n",
       "  array(0.00580654),\n",
       "  array(0.00591428),\n",
       "  array(0.00599093),\n",
       "  array(0.00605068),\n",
       "  array(0.0061151),\n",
       "  array(0.00613874),\n",
       "  array(0.00618653),\n",
       "  array(0.00630749),\n",
       "  array(0.00640506),\n",
       "  array(0.00650204),\n",
       "  array(0.00656277),\n",
       "  array(0.0067327),\n",
       "  array(0.00678947),\n",
       "  array(0.00687279),\n",
       "  array(0.00693457),\n",
       "  array(0.00698165),\n",
       "  array(0.00706112),\n",
       "  array(0.00708387),\n",
       "  array(0.0072065)],\n",
       " 'timesteps': array([  0,   1,   2,   3,   4,   5,   6,   7,   8,   9,  10,  11,  12,\n",
       "         13,  14,  15,  16,  17,  18,  19,  20,  21,  22,  23,  24,  25,\n",
       "         26,  27,  28,  29,  30,  31,  32,  33,  34,  35,  36,  37,  38,\n",
       "         39,  40,  41,  42,  43,  44,  45,  46,  47,  48,  49,  50,  51,\n",
       "         52,  53,  54,  55,  56,  57,  58,  59,  60,  61,  62,  63,  64,\n",
       "         65,  66,  67,  68,  69,  70,  71,  72,  73,  74,  75,  76,  77,\n",
       "         78,  79,  80,  81,  82,  83,  84,  85,  86,  87,  88,  89,  90,\n",
       "         91,  92,  93,  94,  95,  96,  97,  98,  99, 100, 101, 102, 103,\n",
       "        104, 105, 106, 107, 108, 109, 110, 111, 112, 113, 114, 115, 116,\n",
       "        117, 118, 119, 120])}"
      ]
     },
     "execution_count": 35,
     "metadata": {},
     "output_type": "execute_result"
    }
   ],
   "source": [
    "mf.actual_user_item_scores"
   ]
  },
  {
   "cell_type": "code",
   "execution_count": 9,
   "metadata": {},
   "outputs": [
    {
     "data": {
      "image/png": "[encoded data removed]",
      "text/plain": [
       "<Figure size 432x288 with 1 Axes>"
      ]
     },
     "metadata": {},
     "output_type": "display_data"
    }
   ],
   "source": [
    "#mflfd_metrics = pd.DataFrame(mflfd.get_measurements())\n",
    "mflfd_sim= mflfd_metrics['interaction_similarity'].to_list()[1:]\n",
    "\n",
    "#mf_metrics = pd.DataFrame(mf.get_measurements())\n",
    "mf_sim= mf_metrics['interaction_similarity'].to_list()[1:]\n",
    "# style\n",
    "plt.style.use('seaborn-darkgrid')\n",
    "plt.rcParams.update({'font.size': 14})\n",
    "\n",
    "# create a color palette\n",
    "palette = plt.get_cmap('Set1')\n",
    "\n",
    "plt.plot(list(range(len(mflfd_sim))), mflfd_sim, marker='', color=palette(0), linewidth=1, alpha=0.9, label='MF-LFD')\n",
    "plt.plot(list(range(len(mf_sim))), mf_sim, marker='', color=palette(1), linewidth=1, alpha=0.9, label='MF')\n",
    "\n",
    "# Add legend\n",
    "#plt.legend(loc=2, ncol=2)\n",
    "plt.legend(loc=1, ncol=1)\n",
    "\n",
    "# Add titles\n",
    "plt.title(\"Randomly Paired Users Interaction Similarity (Repeated)\", loc='center', fontsize=16, fontweight=2)\n",
    "plt.xlabel(\"Timestep\")\n",
    "plt.ylabel(\"Jaccard Index\")\n",
    "plt.show()\n"
   ]
  },
  {
   "cell_type": "code",
   "execution_count": 33,
   "metadata": {},
   "outputs": [
    {
     "data": {
      "image/png": "[encoded data removed]",
      "text/plain": [
       "<Figure size 432x288 with 1 Axes>"
      ]
     },
     "metadata": {},
     "output_type": "display_data"
    }
   ],
   "source": [
    "mf_mean = np.mean(mf.predicted_scores.value, axis=0)\n",
    "plt.hist(mf_mean)\n",
    "plt.show()"
   ]
  },
  {
   "cell_type": "code",
   "execution_count": 32,
   "metadata": {},
   "outputs": [
    {
     "data": {
      "image/png": "[encoded data removed]",
      "text/plain": [
       "<Figure size 432x288 with 1 Axes>"
      ]
     },
     "metadata": {},
     "output_type": "display_data"
    }
   ],
   "source": [
    "lfd_mean = np.mean(mflfd.predicted_scores.value, axis=0)\n",
    "plt.hist(lfd_mean)\n",
    "plt.show()"
   ]
  },
  {
   "cell_type": "code",
   "execution_count": 87,
   "metadata": {},
   "outputs": [],
   "source": [
    "mf_scores = pd.DataFrame(mf.predicted_scores.value)\n",
    "cols = [f\"item_{c}\" for c in mf_scores.columns]\n",
    "mf_scores.columns = cols\n",
    "#mf_scores.head()\n",
    "mf_scores[\"user\"] = list(range(mf_scores.shape[0]))\n",
    "\n",
    "#list(range(mf_scores.shape[0]))\n",
    "\n",
    "t=pd.wide_to_long(mf_scores, \"item_\", i=\"user\", j=\"item\").reset_index()\n",
    "t.columns = [\"user\", \"item\", \"predicted_score\"]"
   ]
  },
  {
   "cell_type": "code",
   "execution_count": 70,
   "metadata": {},
   "outputs": [
    {
     "data": {
      "text/plain": [
       "Text(0, 0.5, 'Actual Scores')"
      ]
     },
     "execution_count": 70,
     "metadata": {},
     "output_type": "execute_result"
    },
    {
     "data": {
      "image/png": "[encoded data removed]",
      "text/plain": [
       "<Figure size 1080x1080 with 1 Axes>"
      ]
     },
     "metadata": {},
     "output_type": "display_data"
    }
   ],
   "source": [
    "plt.figure(figsize=(15, 15))\n",
    "plt.scatter(np.array(mf.predicted_scores.value).flatten(), mf.actual_user_item_scores.flatten())\n",
    "plt.xlabel(\"Predicted Scores\")\n",
    "plt.ylabel(\"Actual Scores\")"
   ]
  },
  {
   "cell_type": "code",
   "execution_count": 61,
   "metadata": {},
   "outputs": [
    {
     "name": "stdout",
     "output_type": "stream",
     "text": [
      "(100, 10000)\n",
      "(100, 10000)\n"
     ]
    },
    {
     "ename": "TypeError",
     "evalue": "cannot unpack non-iterable NoneType object",
     "output_type": "error",
     "traceback": [
      "\u001b[0;31m---------------------------------------------------------------------------\u001b[0m",
      "\u001b[0;31mTypeError\u001b[0m                                 Traceback (most recent call last)",
      "\u001b[0;32m/opt/anaconda3/envs/t_recs/lib/python3.7/site-packages/IPython/core/formatters.py\u001b[0m in \u001b[0;36m__call__\u001b[0;34m(self, obj)\u001b[0m\n\u001b[1;32m    339\u001b[0m                 \u001b[0;32mpass\u001b[0m\u001b[0;34m\u001b[0m\u001b[0;34m\u001b[0m\u001b[0m\n\u001b[1;32m    340\u001b[0m             \u001b[0;32melse\u001b[0m\u001b[0;34m:\u001b[0m\u001b[0;34m\u001b[0m\u001b[0;34m\u001b[0m\u001b[0m\n\u001b[0;32m--> 341\u001b[0;31m                 \u001b[0;32mreturn\u001b[0m \u001b[0mprinter\u001b[0m\u001b[0;34m(\u001b[0m\u001b[0mobj\u001b[0m\u001b[0;34m)\u001b[0m\u001b[0;34m\u001b[0m\u001b[0;34m\u001b[0m\u001b[0m\n\u001b[0m\u001b[1;32m    342\u001b[0m             \u001b[0;31m# Finally look for special method names\u001b[0m\u001b[0;34m\u001b[0m\u001b[0;34m\u001b[0m\u001b[0;34m\u001b[0m\u001b[0m\n\u001b[1;32m    343\u001b[0m             \u001b[0mmethod\u001b[0m \u001b[0;34m=\u001b[0m \u001b[0mget_real_method\u001b[0m\u001b[0;34m(\u001b[0m\u001b[0mobj\u001b[0m\u001b[0;34m,\u001b[0m \u001b[0mself\u001b[0m\u001b[0;34m.\u001b[0m\u001b[0mprint_method\u001b[0m\u001b[0;34m)\u001b[0m\u001b[0;34m\u001b[0m\u001b[0;34m\u001b[0m\u001b[0m\n",
      "\u001b[0;32m/opt/anaconda3/envs/t_recs/lib/python3.7/site-packages/IPython/core/pylabtools.py\u001b[0m in \u001b[0;36m<lambda>\u001b[0;34m(fig)\u001b[0m\n\u001b[1;32m    246\u001b[0m \u001b[0;34m\u001b[0m\u001b[0m\n\u001b[1;32m    247\u001b[0m     \u001b[0;32mif\u001b[0m \u001b[0;34m'png'\u001b[0m \u001b[0;32min\u001b[0m \u001b[0mformats\u001b[0m\u001b[0;34m:\u001b[0m\u001b[0;34m\u001b[0m\u001b[0;34m\u001b[0m\u001b[0m\n\u001b[0;32m--> 248\u001b[0;31m         \u001b[0mpng_formatter\u001b[0m\u001b[0;34m.\u001b[0m\u001b[0mfor_type\u001b[0m\u001b[0;34m(\u001b[0m\u001b[0mFigure\u001b[0m\u001b[0;34m,\u001b[0m \u001b[0;32mlambda\u001b[0m \u001b[0mfig\u001b[0m\u001b[0;34m:\u001b[0m \u001b[0mprint_figure\u001b[0m\u001b[0;34m(\u001b[0m\u001b[0mfig\u001b[0m\u001b[0;34m,\u001b[0m \u001b[0;34m'png'\u001b[0m\u001b[0;34m,\u001b[0m \u001b[0;34m**\u001b[0m\u001b[0mkwargs\u001b[0m\u001b[0;34m)\u001b[0m\u001b[0;34m)\u001b[0m\u001b[0;34m\u001b[0m\u001b[0;34m\u001b[0m\u001b[0m\n\u001b[0m\u001b[1;32m    249\u001b[0m     \u001b[0;32mif\u001b[0m \u001b[0;34m'retina'\u001b[0m \u001b[0;32min\u001b[0m \u001b[0mformats\u001b[0m \u001b[0;32mor\u001b[0m \u001b[0;34m'png2x'\u001b[0m \u001b[0;32min\u001b[0m \u001b[0mformats\u001b[0m\u001b[0;34m:\u001b[0m\u001b[0;34m\u001b[0m\u001b[0;34m\u001b[0m\u001b[0m\n\u001b[1;32m    250\u001b[0m         \u001b[0mpng_formatter\u001b[0m\u001b[0;34m.\u001b[0m\u001b[0mfor_type\u001b[0m\u001b[0;34m(\u001b[0m\u001b[0mFigure\u001b[0m\u001b[0;34m,\u001b[0m \u001b[0;32mlambda\u001b[0m \u001b[0mfig\u001b[0m\u001b[0;34m:\u001b[0m \u001b[0mretina_figure\u001b[0m\u001b[0;34m(\u001b[0m\u001b[0mfig\u001b[0m\u001b[0;34m,\u001b[0m \u001b[0;34m**\u001b[0m\u001b[0mkwargs\u001b[0m\u001b[0;34m)\u001b[0m\u001b[0;34m)\u001b[0m\u001b[0;34m\u001b[0m\u001b[0;34m\u001b[0m\u001b[0m\n",
      "\u001b[0;32m/opt/anaconda3/envs/t_recs/lib/python3.7/site-packages/IPython/core/pylabtools.py\u001b[0m in \u001b[0;36mprint_figure\u001b[0;34m(fig, fmt, bbox_inches, **kwargs)\u001b[0m\n\u001b[1;32m    130\u001b[0m         \u001b[0mFigureCanvasBase\u001b[0m\u001b[0;34m(\u001b[0m\u001b[0mfig\u001b[0m\u001b[0;34m)\u001b[0m\u001b[0;34m\u001b[0m\u001b[0;34m\u001b[0m\u001b[0m\n\u001b[1;32m    131\u001b[0m \u001b[0;34m\u001b[0m\u001b[0m\n\u001b[0;32m--> 132\u001b[0;31m     \u001b[0mfig\u001b[0m\u001b[0;34m.\u001b[0m\u001b[0mcanvas\u001b[0m\u001b[0;34m.\u001b[0m\u001b[0mprint_figure\u001b[0m\u001b[0;34m(\u001b[0m\u001b[0mbytes_io\u001b[0m\u001b[0;34m,\u001b[0m \u001b[0;34m**\u001b[0m\u001b[0mkw\u001b[0m\u001b[0;34m)\u001b[0m\u001b[0;34m\u001b[0m\u001b[0;34m\u001b[0m\u001b[0m\n\u001b[0m\u001b[1;32m    133\u001b[0m     \u001b[0mdata\u001b[0m \u001b[0;34m=\u001b[0m \u001b[0mbytes_io\u001b[0m\u001b[0;34m.\u001b[0m\u001b[0mgetvalue\u001b[0m\u001b[0;34m(\u001b[0m\u001b[0;34m)\u001b[0m\u001b[0;34m\u001b[0m\u001b[0;34m\u001b[0m\u001b[0m\n\u001b[1;32m    134\u001b[0m     \u001b[0;32mif\u001b[0m \u001b[0mfmt\u001b[0m \u001b[0;34m==\u001b[0m \u001b[0;34m'svg'\u001b[0m\u001b[0;34m:\u001b[0m\u001b[0;34m\u001b[0m\u001b[0;34m\u001b[0m\u001b[0m\n",
      "\u001b[0;32m/opt/anaconda3/envs/t_recs/lib/python3.7/site-packages/matplotlib/backend_bases.py\u001b[0m in \u001b[0;36mprint_figure\u001b[0;34m(self, filename, dpi, facecolor, edgecolor, orientation, format, bbox_inches, pad_inches, bbox_extra_artists, backend, **kwargs)\u001b[0m\n\u001b[1;32m   2194\u001b[0m \u001b[0;34m\u001b[0m\u001b[0m\n\u001b[1;32m   2195\u001b[0m                     bbox_inches = self.figure.get_tightbbox(\n\u001b[0;32m-> 2196\u001b[0;31m                         renderer, bbox_extra_artists=bbox_extra_artists)\n\u001b[0m\u001b[1;32m   2197\u001b[0m                     \u001b[0;32mif\u001b[0m \u001b[0mpad_inches\u001b[0m \u001b[0;32mis\u001b[0m \u001b[0;32mNone\u001b[0m\u001b[0;34m:\u001b[0m\u001b[0;34m\u001b[0m\u001b[0;34m\u001b[0m\u001b[0m\n\u001b[1;32m   2198\u001b[0m                         \u001b[0mpad_inches\u001b[0m \u001b[0;34m=\u001b[0m \u001b[0mrcParams\u001b[0m\u001b[0;34m[\u001b[0m\u001b[0;34m'savefig.pad_inches'\u001b[0m\u001b[0;34m]\u001b[0m\u001b[0;34m\u001b[0m\u001b[0;34m\u001b[0m\u001b[0m\n",
      "\u001b[0;32m/opt/anaconda3/envs/t_recs/lib/python3.7/site-packages/matplotlib/figure.py\u001b[0m in \u001b[0;36mget_tightbbox\u001b[0;34m(self, renderer, bbox_extra_artists)\u001b[0m\n\u001b[1;32m   2504\u001b[0m \u001b[0;34m\u001b[0m\u001b[0m\n\u001b[1;32m   2505\u001b[0m         \u001b[0;32mfor\u001b[0m \u001b[0ma\u001b[0m \u001b[0;32min\u001b[0m \u001b[0martists\u001b[0m\u001b[0;34m:\u001b[0m\u001b[0;34m\u001b[0m\u001b[0;34m\u001b[0m\u001b[0m\n\u001b[0;32m-> 2506\u001b[0;31m             \u001b[0mbbox\u001b[0m \u001b[0;34m=\u001b[0m \u001b[0ma\u001b[0m\u001b[0;34m.\u001b[0m\u001b[0mget_tightbbox\u001b[0m\u001b[0;34m(\u001b[0m\u001b[0mrenderer\u001b[0m\u001b[0;34m)\u001b[0m\u001b[0;34m\u001b[0m\u001b[0;34m\u001b[0m\u001b[0m\n\u001b[0m\u001b[1;32m   2507\u001b[0m             \u001b[0;32mif\u001b[0m \u001b[0mbbox\u001b[0m \u001b[0;32mis\u001b[0m \u001b[0;32mnot\u001b[0m \u001b[0;32mNone\u001b[0m \u001b[0;32mand\u001b[0m \u001b[0;34m(\u001b[0m\u001b[0mbbox\u001b[0m\u001b[0;34m.\u001b[0m\u001b[0mwidth\u001b[0m \u001b[0;34m!=\u001b[0m \u001b[0;36m0\u001b[0m \u001b[0;32mor\u001b[0m \u001b[0mbbox\u001b[0m\u001b[0;34m.\u001b[0m\u001b[0mheight\u001b[0m \u001b[0;34m!=\u001b[0m \u001b[0;36m0\u001b[0m\u001b[0;34m)\u001b[0m\u001b[0;34m:\u001b[0m\u001b[0;34m\u001b[0m\u001b[0;34m\u001b[0m\u001b[0m\n\u001b[1;32m   2508\u001b[0m                 \u001b[0mbb\u001b[0m\u001b[0;34m.\u001b[0m\u001b[0mappend\u001b[0m\u001b[0;34m(\u001b[0m\u001b[0mbbox\u001b[0m\u001b[0;34m)\u001b[0m\u001b[0;34m\u001b[0m\u001b[0;34m\u001b[0m\u001b[0m\n",
      "\u001b[0;32m/opt/anaconda3/envs/t_recs/lib/python3.7/site-packages/matplotlib/axes/_base.py\u001b[0m in \u001b[0;36mget_tightbbox\u001b[0;34m(self, renderer, call_axes_locator, bbox_extra_artists, for_layout_only)\u001b[0m\n\u001b[1;32m   4198\u001b[0m                     \u001b[0;31m# this artist\u001b[0m\u001b[0;34m\u001b[0m\u001b[0;34m\u001b[0m\u001b[0;34m\u001b[0m\u001b[0m\n\u001b[1;32m   4199\u001b[0m                     \u001b[0;32mcontinue\u001b[0m\u001b[0;34m\u001b[0m\u001b[0;34m\u001b[0m\u001b[0m\n\u001b[0;32m-> 4200\u001b[0;31m             \u001b[0mbbox\u001b[0m \u001b[0;34m=\u001b[0m \u001b[0ma\u001b[0m\u001b[0;34m.\u001b[0m\u001b[0mget_tightbbox\u001b[0m\u001b[0;34m(\u001b[0m\u001b[0mrenderer\u001b[0m\u001b[0;34m)\u001b[0m\u001b[0;34m\u001b[0m\u001b[0;34m\u001b[0m\u001b[0m\n\u001b[0m\u001b[1;32m   4201\u001b[0m             if (bbox is not None\n\u001b[1;32m   4202\u001b[0m                     \u001b[0;32mand\u001b[0m \u001b[0;36m0\u001b[0m \u001b[0;34m<\u001b[0m \u001b[0mbbox\u001b[0m\u001b[0;34m.\u001b[0m\u001b[0mwidth\u001b[0m \u001b[0;34m<\u001b[0m \u001b[0mnp\u001b[0m\u001b[0;34m.\u001b[0m\u001b[0minf\u001b[0m\u001b[0;34m\u001b[0m\u001b[0;34m\u001b[0m\u001b[0m\n",
      "\u001b[0;32m/opt/anaconda3/envs/t_recs/lib/python3.7/site-packages/matplotlib/artist.py\u001b[0m in \u001b[0;36mget_tightbbox\u001b[0;34m(self, renderer)\u001b[0m\n\u001b[1;32m    276\u001b[0m             \u001b[0mThe\u001b[0m \u001b[0menclosing\u001b[0m \u001b[0mbounding\u001b[0m \u001b[0mbox\u001b[0m \u001b[0;34m(\u001b[0m\u001b[0;32min\u001b[0m \u001b[0mfigure\u001b[0m \u001b[0mpixel\u001b[0m \u001b[0mcoordinates\u001b[0m\u001b[0;34m)\u001b[0m\u001b[0;34m.\u001b[0m\u001b[0;34m\u001b[0m\u001b[0;34m\u001b[0m\u001b[0m\n\u001b[1;32m    277\u001b[0m         \"\"\"\n\u001b[0;32m--> 278\u001b[0;31m         \u001b[0mbbox\u001b[0m \u001b[0;34m=\u001b[0m \u001b[0mself\u001b[0m\u001b[0;34m.\u001b[0m\u001b[0mget_window_extent\u001b[0m\u001b[0;34m(\u001b[0m\u001b[0mrenderer\u001b[0m\u001b[0;34m)\u001b[0m\u001b[0;34m\u001b[0m\u001b[0;34m\u001b[0m\u001b[0m\n\u001b[0m\u001b[1;32m    279\u001b[0m         \u001b[0;32mif\u001b[0m \u001b[0mself\u001b[0m\u001b[0;34m.\u001b[0m\u001b[0mget_clip_on\u001b[0m\u001b[0;34m(\u001b[0m\u001b[0;34m)\u001b[0m\u001b[0;34m:\u001b[0m\u001b[0;34m\u001b[0m\u001b[0;34m\u001b[0m\u001b[0m\n\u001b[1;32m    280\u001b[0m             \u001b[0mclip_box\u001b[0m \u001b[0;34m=\u001b[0m \u001b[0mself\u001b[0m\u001b[0;34m.\u001b[0m\u001b[0mget_clip_box\u001b[0m\u001b[0;34m(\u001b[0m\u001b[0;34m)\u001b[0m\u001b[0;34m\u001b[0m\u001b[0;34m\u001b[0m\u001b[0m\n",
      "\u001b[0;32m/opt/anaconda3/envs/t_recs/lib/python3.7/site-packages/matplotlib/image.py\u001b[0m in \u001b[0;36mget_window_extent\u001b[0;34m(self, renderer)\u001b[0m\n\u001b[1;32m    913\u001b[0m \u001b[0;34m\u001b[0m\u001b[0m\n\u001b[1;32m    914\u001b[0m     \u001b[0;32mdef\u001b[0m \u001b[0mget_window_extent\u001b[0m\u001b[0;34m(\u001b[0m\u001b[0mself\u001b[0m\u001b[0;34m,\u001b[0m \u001b[0mrenderer\u001b[0m\u001b[0;34m=\u001b[0m\u001b[0;32mNone\u001b[0m\u001b[0;34m)\u001b[0m\u001b[0;34m:\u001b[0m\u001b[0;34m\u001b[0m\u001b[0;34m\u001b[0m\u001b[0m\n\u001b[0;32m--> 915\u001b[0;31m         \u001b[0mx0\u001b[0m\u001b[0;34m,\u001b[0m \u001b[0mx1\u001b[0m\u001b[0;34m,\u001b[0m \u001b[0my0\u001b[0m\u001b[0;34m,\u001b[0m \u001b[0my1\u001b[0m \u001b[0;34m=\u001b[0m \u001b[0mself\u001b[0m\u001b[0;34m.\u001b[0m\u001b[0m_extent\u001b[0m\u001b[0;34m\u001b[0m\u001b[0;34m\u001b[0m\u001b[0m\n\u001b[0m\u001b[1;32m    916\u001b[0m         \u001b[0mbbox\u001b[0m \u001b[0;34m=\u001b[0m \u001b[0mBbox\u001b[0m\u001b[0;34m.\u001b[0m\u001b[0mfrom_extents\u001b[0m\u001b[0;34m(\u001b[0m\u001b[0;34m[\u001b[0m\u001b[0mx0\u001b[0m\u001b[0;34m,\u001b[0m \u001b[0my0\u001b[0m\u001b[0;34m,\u001b[0m \u001b[0mx1\u001b[0m\u001b[0;34m,\u001b[0m \u001b[0my1\u001b[0m\u001b[0;34m]\u001b[0m\u001b[0;34m)\u001b[0m\u001b[0;34m\u001b[0m\u001b[0;34m\u001b[0m\u001b[0m\n\u001b[1;32m    917\u001b[0m         \u001b[0;32mreturn\u001b[0m \u001b[0mbbox\u001b[0m\u001b[0;34m.\u001b[0m\u001b[0mtransformed\u001b[0m\u001b[0;34m(\u001b[0m\u001b[0mself\u001b[0m\u001b[0;34m.\u001b[0m\u001b[0maxes\u001b[0m\u001b[0;34m.\u001b[0m\u001b[0mtransData\u001b[0m\u001b[0;34m)\u001b[0m\u001b[0;34m\u001b[0m\u001b[0;34m\u001b[0m\u001b[0m\n",
      "\u001b[0;31mTypeError\u001b[0m: cannot unpack non-iterable NoneType object"
     ]
    },
    {
     "data": {
      "text/plain": [
       "<Figure size 504x216 with 1 Axes>"
      ]
     },
     "metadata": {},
     "output_type": "display_data"
    }
   ],
   "source": [
    "#plt.scatter(mf.actual_user_item_scores, mf.predicted_scores)\n",
    "# from matplotlib.image import NonUniformImage\n",
    "# print(mf.predicted_scores.value.shape)\n",
    "# print(mf.actual_user_item_scores.shape)\n",
    "H, xedges, yedges = np.histogram2d(np.array(mf.predicted_scores.value).flatten(), mf.actual_user_item_scores.flatten())\n",
    "# H = H.T \n",
    "\n",
    "# fig = plt.figure(figsize=(7, 3))\n",
    "# ax = fig.add_subplot(133, title='NonUniformImage: interpolated',aspect='equal')\n",
    "\n",
    "# im = NonUniformImage(ax, interpolation='bilinear')\n",
    "\n",
    "# xcenters = (xedges[:-1] + xedges[1:]) / 2\n",
    "# ycenters = (yedges[:-1] + yedges[1:]) / 2\n",
    "# im.set_data(xcenters, ycenters, H)\n",
    "# ax.images.append(im)\n",
    "\n",
    "# # plt.show()"
   ]
  },
  {
   "cell_type": "code",
   "execution_count": 63,
   "metadata": {},
   "outputs": [
    {
     "data": {
      "text/plain": [
       "array([-4.22622155, -3.26775824, -2.30929493, -1.35083162, -0.39236831,\n",
       "        0.566095  ,  1.52455831,  2.48302162,  3.44148493,  4.39994824])"
      ]
     },
     "execution_count": 63,
     "metadata": {},
     "output_type": "execute_result"
    }
   ],
   "source": [
    "ycenters"
   ]
  },
  {
   "cell_type": "code",
   "execution_count": 83,
   "metadata": {},
   "outputs": [
    {
     "data": {
      "image/png": "[encoded data removed]",
      "text/plain": [
       "<Figure size 432x288 with 1 Axes>"
      ]
     },
     "metadata": {},
     "output_type": "display_data"
    }
   ],
   "source": [
    "mf_afsr= mf_metrics['afsr'].to_list()[1:]\n",
    "mflfd_afsr= mflfd_metrics['afsr'].to_list()[1:]\n",
    "\n",
    "# style\n",
    "plt.style.use('seaborn-darkgrid')\n",
    "plt.rcParams.update({'font.size': 14})\n",
    "\n",
    "# create a color palette\n",
    "palette = plt.get_cmap('Set1')\n",
    "\n",
    "plt.plot(list(range(len(mflfd_afsr))), mflfd_afsr, marker='', color=palette(0), linewidth=1, alpha=0.9, label='MF-LFD')\n",
    "plt.plot(list(range(len(mf_afsr))), mf_afsr, marker='', color=palette(1), linewidth=1, alpha=0.9, label='MF')\n",
    "\n",
    "# Add legend\n",
    "#plt.legend(loc=2, ncol=2)\n",
    "plt.legend(loc=1, ncol=1)\n",
    "\n",
    "# Add titles\n",
    "plt.title(\"AFSR for MF vs. MF-LFD with Repeated Training\", loc='center', fontsize=16, fontweight=2)\n",
    "plt.xlabel(\"Timestep\")\n",
    "plt.ylabel(\"AFSR\")\n",
    "plt.show()\n",
    "\n"
   ]
  },
  {
   "cell_type": "code",
   "execution_count": null,
   "metadata": {},
   "outputs": [],
   "source": [
    "mlsmall = MovieLens('../../t-recs-experiments/data/ml-latest-small')\n",
    "ratings = mlsmall.ratings[['user', 'item']]\n",
    "\n",
    "als = als.ImplicitMF(10, iterations=100)\n",
    "als.fit(ratings)\n",
    "\n"
   ]
  },
  {
   "cell_type": "code",
   "execution_count": null,
   "metadata": {},
   "outputs": [],
   "source": [
    "als_item_features = pd.DataFrame(als.item_features_)\n",
    "mflfd_item_features = pd.DataFrame(mflfd.items_hat.T)\n",
    "#mflfd_item_features.head()\n",
    "\n",
    "mf_item_features = pd.DataFrame(mf.items_hat.T)\n",
    "#mf_item_features.head()"
   ]
  },
  {
   "cell_type": "code",
   "execution_count": null,
   "metadata": {},
   "outputs": [],
   "source": [
    "def plot_hist_features(features_df, model_type, color='blue'):\n",
    "    font = {'family' : 'normal',\n",
    "            'weight' : 'bold',\n",
    "            'size'   : 12}\n",
    "\n",
    "    plt.rc('font', **font)\n",
    "\n",
    "    n_features = list(range(0,10))\n",
    "    fig, axs = plt.subplots(math.ceil(len(n_features)/3), 3, figsize=(20,20))\n",
    "    plt.subplots_adjust(top=0.92, bottom=0.08, left=0.10, right=0.95, hspace=0.25,\n",
    "                        wspace=0.35)\n",
    "    fig.suptitle('Latent Factors for {}'.format(model_type), size=20)\n",
    "\n",
    "    for idx, n_feature in enumerate(n_features):\n",
    "        r=idx //3\n",
    "        c=idx % 3\n",
    "\n",
    "        #hat = features_df[n_feature].tolist()\n",
    "        features = features_df[n_feature].tolist()\n",
    "        axs[r, c].set_title('Factor {}'.format(n_feature))\n",
    "\n",
    "        #axs[r,c].plot(hat, actual, 'o', color=color);\n",
    "        axs[r,c].hist(features, color=color)\n",
    "\n",
    "    #for ax in axs.flat:\n",
    "    #    ax.set(xlabel='hat representation', ylabel='actual representation')\n",
    "\n",
    "    # Hide x labels and tick labels for top plots and y ticks for right plots.\n",
    "    #for ax in axs.flat:\n",
    "    #    ax.label_outer()\n",
    "\n",
    "    fig.delaxes(axs[3][1])\n",
    "    fig.delaxes(axs[3][2])"
   ]
  },
  {
   "cell_type": "code",
   "execution_count": null,
   "metadata": {},
   "outputs": [],
   "source": [
    "plot_hist_features(als_item_features, 'MovieLens MF')"
   ]
  },
  {
   "cell_type": "code",
   "execution_count": null,
   "metadata": {},
   "outputs": [],
   "source": [
    "plot_hist_features(mflfd_item_features, 'MF-LFD', 'red')"
   ]
  },
  {
   "cell_type": "code",
   "execution_count": null,
   "metadata": {},
   "outputs": [],
   "source": [
    "plot_hist_features(mf_item_features, 'MF', 'green')"
   ]
  },
  {
   "cell_type": "code",
   "execution_count": 103,
   "metadata": {},
   "outputs": [
    {
     "data": {
      "text/plain": [
       "(10000, 10000)"
      ]
     },
     "execution_count": 103,
     "metadata": {},
     "output_type": "execute_result"
    }
   ],
   "source": [
    "mflfd_d = np.triu(pairwise_distances(mflfd.items_hat.value.T, metric=\"cosine\"))\n",
    "\n",
    "#mflfd_d[mflfd_d ==0] = np.nan\n",
    "#arr[arr == 0] = 'nan' # or use np.nan\n",
    "#mf_d = pairwise_distances(mflfd.items_hat, metric='correlation', force_all_finite=\"allow_nan\")\n",
    "#ml_d = pairwise_distances(als.item_features_.T, metric='correlation', force_all_finite=\"allow_nan\")\n",
    "\n",
    "mflfd_d.shape"
   ]
  },
  {
   "cell_type": "code",
   "execution_count": 104,
   "metadata": {},
   "outputs": [
    {
     "data": {
      "text/plain": [
       "0.4961909496198552"
      ]
     },
     "execution_count": 104,
     "metadata": {},
     "output_type": "execute_result"
    }
   ],
   "source": [
    "np.nanmean(mflfd_d)\n",
    "\n",
    "#Y = pdist(mflfd.items_hat, 'cosine')"
   ]
  },
  {
   "cell_type": "code",
   "execution_count": 105,
   "metadata": {},
   "outputs": [
    {
     "data": {
      "text/plain": [
       "1.982689616969998"
      ]
     },
     "execution_count": 105,
     "metadata": {},
     "output_type": "execute_result"
    }
   ],
   "source": [
    "np.max(mflfd_d)"
   ]
  },
  {
   "cell_type": "code",
   "execution_count": null,
   "metadata": {},
   "outputs": [],
   "source": [
    "mflfd"
   ]
  },
  {
   "cell_type": "code",
   "execution_count": null,
   "metadata": {},
   "outputs": [],
   "source": [
    "upper = np.triu(mflfd_d)"
   ]
  },
  {
   "cell_type": "code",
   "execution_count": null,
   "metadata": {},
   "outputs": [],
   "source": [
    "recommended_item_attr.shape"
   ]
  },
  {
   "cell_type": "code",
   "execution_count": null,
   "metadata": {},
   "outputs": [],
   "source": [
    "recommended_item_attr = mflfd.items_hat[:, mflfd.rec]\n",
    "mflfd_d = pairwise_distances(recommended_item_attr, metric=\"euclidean\")\n",
    "mflfd_d.shape"
   ]
  },
  {
   "cell_type": "code",
   "execution_count": 55,
   "metadata": {},
   "outputs": [],
   "source": [
    "# row = np.repeat(self.users.user_vector, item_indices.shape[1])\n",
    "# row = row.reshape((self.num_users, -1))\n",
    "# s_filtered = self.predicted_scores.value[row, item_indices]\n",
    "# rec_scores = mflfd.predicted_scores.value[:, mflfd.rec]\n",
    "# rec_scores\n",
    "\n",
    "#top_k_att = self.items_hat.value[:, top_k_recs[:]]\n",
    "rec_array = np.array(mflfd.rec)\n",
    "rec_scores = mflfd.predicted_scores.value[:, rec_array]\n"
   ]
  },
  {
   "cell_type": "code",
   "execution_count": 56,
   "metadata": {},
   "outputs": [
    {
     "name": "stdout",
     "output_type": "stream",
     "text": [
      "(100, 1000)\n",
      "(100, 10)\n",
      "(100, 100, 10)\n"
     ]
    }
   ],
   "source": [
    "print(mflfd.predicted_scores.value.shape)\n",
    "print(rec_array.shape)\n",
    "print(rec_scores.shape)"
   ]
  },
  {
   "cell_type": "code",
   "execution_count": 51,
   "metadata": {},
   "outputs": [
    {
     "data": {
      "text/plain": [
       "array([0.14877549, 0.05915087, 0.09695111, 0.12161561, 0.08125331,\n",
       "       0.07229022, 0.11856703, 0.1181889 , 0.08125331, 0.12779414])"
      ]
     },
     "execution_count": 51,
     "metadata": {},
     "output_type": "execute_result"
    }
   ],
   "source": [
    "rec_scores[0,0,:]"
   ]
  },
  {
   "cell_type": "code",
   "execution_count": 52,
   "metadata": {},
   "outputs": [
    {
     "data": {
      "text/plain": [
       "array([317, 540, 920, 340, 616, 382, 228,  20, 616, 773])"
      ]
     },
     "execution_count": 52,
     "metadata": {},
     "output_type": "execute_result"
    }
   ],
   "source": [
    "rec_array[0]"
   ]
  },
  {
   "cell_type": "code",
   "execution_count": 57,
   "metadata": {},
   "outputs": [
    {
     "data": {
      "text/plain": [
       "0.1487754933122429"
      ]
     },
     "execution_count": 57,
     "metadata": {},
     "output_type": "execute_result"
    }
   ],
   "source": [
    "mflfd.predicted_scores.value[0,317]"
   ]
  },
  {
   "cell_type": "code",
   "execution_count": 107,
   "metadata": {},
   "outputs": [
    {
     "data": {
      "text/plain": [
       "array([100, 100, 100, 100, 100, 100, 100, 100, 100, 100, 100, 100, 100,\n",
       "       100, 100, 100, 100, 100, 100, 100, 100, 100, 100, 100, 100, 100,\n",
       "       100, 100, 100, 100, 100, 100, 100, 100, 100, 100, 100, 100, 100,\n",
       "       100, 100, 100, 100, 100, 100, 100, 100, 100, 100, 100, 100, 100,\n",
       "       100, 100, 100, 100, 100, 100, 100, 100, 100, 100, 100, 100, 100,\n",
       "       100, 100, 100, 100, 100, 100, 100, 100, 100, 100, 100, 100, 100,\n",
       "       100, 100, 100, 100, 100, 100, 100, 100, 100, 100, 100, 100, 100,\n",
       "       100, 100, 100, 100, 100, 100, 100, 100, 100])"
      ]
     },
     "execution_count": 107,
     "metadata": {},
     "output_type": "execute_result"
    }
   ],
   "source": [
    "row=np.repeat(100, rec_array.shape[0])\n",
    "#row = row.reshape((mflfd.num_users, -1))\n",
    "row"
   ]
  },
  {
   "cell_type": "code",
   "execution_count": null,
   "metadata": {},
   "outputs": [],
   "source": [
    "x[:,np.arange(idx.shape[0])[:,None],idx]\n",
    "\n",
    "mflfd.predicted_scores.value[:]"
   ]
  },
  {
   "cell_type": "code",
   "execution_count": null,
   "metadata": {},
   "outputs": [],
   "source": [
    "class MeanRecDistance(Measurement):\n",
    "    \"\"\"\n",
    "    Measures the average range (across users) of item attributes for items\n",
    "    users were recommended at a time step.\n",
    "\n",
    "    TODO Description\n",
    "\n",
    "    This class inherits from :class:`.Measurement`.\n",
    "\n",
    "    Parameters\n",
    "    -----------\n",
    "\n",
    "        verbose: bool (optional, default: False)\n",
    "            If True, enables verbose mode. Disabled by default.\n",
    "\n",
    "    Attributes\n",
    "    -----------\n",
    "        Inherited by Measurement: :class:`.Measurement`\n",
    "\n",
    "        name: str (optional, default: \"afsr\")\n",
    "            Name of the measurement component.\n",
    "    \"\"\"\n",
    "\n",
    "    def __init__(self, name=\"mean_rec_distance\", verbose=False):\n",
    "        Measurement.__init__(self, name, verbose, init_value=None)\n",
    "\n",
    "    def measure(self, recommender, **kwargs):\n",
    "        \"\"\"\n",
    "        Measures the mean of the distance between all pairwise distances between recommendations\n",
    "\n",
    "        Parameters\n",
    "        ------------\n",
    "            recommender: :class:`~models.recommender.BaseRecommender`\n",
    "                Model that inherits from\n",
    "                :class:`~models.recommender.BaseRecommender`.\n",
    "\n",
    "            **kwargs\n",
    "                Keyword arguments, one of which must be `items_shown`, a |U| x\n",
    "                num_items_per_iter matrix that contains the indices of every\n",
    "                item shown to every user at a particular timestep.\n",
    "        \"\"\"\n",
    "        items_shown = kwargs.pop(\"items_shown\", None)\n",
    "        #print(\"interactions {}\".format(interactions))\n",
    "\n",
    "        #assert interactions.size == recommender.num_users\n",
    "        recommended_item_attr = recommender.items_hat[:, items_shown]\n",
    "        #print(\"interacted_item_att shape {}\".format(interacted_item_attr.shape))\n",
    "\n",
    "        if {item for item in recommended_item_attr.flatten()} == {0, 1}:\n",
    "            raise ValueError(\"Mean recommendation distance is not intended for binary features.\")\n",
    "\n",
    "        afsr = np.mean(recommended_item_attr.max(axis=(0, 2)) - recommended_item_attr.min(axis=(0, 2)))\n",
    "\n",
    "        self.observe(afsr)\n"
   ]
  }
 ],
 "metadata": {
  "kernelspec": {
   "display_name": "trecsEnv",
   "language": "python",
   "name": "trecsenv"
  },
  "language_info": {
   "codemirror_mode": {
    "name": "ipython",
    "version": 3
   },
   "file_extension": ".py",
   "mimetype": "text/x-python",
   "name": "python",
   "nbconvert_exporter": "python",
   "pygments_lexer": "ipython3",
   "version": "3.7.9"
  }
 },
 "nbformat": 4,
 "nbformat_minor": 4
}
