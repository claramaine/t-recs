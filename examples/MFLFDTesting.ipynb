{
 "cells": [
  {
   "cell_type": "code",
   "execution_count": 1,
   "metadata": {},
   "outputs": [],
   "source": [
    "import pandas as pd\n",
    "import numpy as np\n",
    "from sklearn.metrics import pairwise_distances\n",
    "from scipy.spatial import distance\n",
    "\n",
    "import trecs\n",
    "from trecs.models import ImplicitMF, ImplicitMFLFD\n",
    "from trecs.random import Generator\n",
    "from trecs.metrics import MSEMeasurement, AverageFeatureScoreRange"
   ]
  },
  {
   "cell_type": "code",
   "execution_count": 2,
   "metadata": {},
   "outputs": [
    {
     "name": "stderr",
     "output_type": "stream",
     "text": [
      "100%|██████████| 20/20 [00:00<00:00, 569.46it/s]\n"
     ]
    }
   ],
   "source": [
    "mf = ImplicitMF(num_users=200, num_items=50, num_latent_factors=20)\n",
    "mf.add_metrics(MSEMeasurement())\n",
    "mf.startup_and_train(20)"
   ]
  },
  {
   "cell_type": "code",
   "execution_count": 3,
   "metadata": {},
   "outputs": [],
   "source": [
    "mflfd = ImplicitMFLFD(num_users=200, num_items=50, num_latent_factors=20)\n",
    "mflfd.add_metrics(MSEMeasurement())"
   ]
  },
  {
   "cell_type": "code",
   "execution_count": 4,
   "metadata": {},
   "outputs": [
    {
     "name": "stderr",
     "output_type": "stream",
     "text": [
      "100%|██████████| 20/20 [00:00<00:00, 666.00it/s]\n",
      "100%|██████████| 10/10 [00:00<00:00, 359.57it/s]\n"
     ]
    }
   ],
   "source": [
    "mflfd.startup_and_train(20)\n",
    "mflfd.run(10)"
   ]
  },
  {
   "cell_type": "code",
   "execution_count": 10,
   "metadata": {},
   "outputs": [
    {
     "data": {
      "text/plain": [
       "array([28, 47, 24, 26, 17, 29, 21,  8, 35, 22])"
      ]
     },
     "execution_count": 10,
     "metadata": {},
     "output_type": "execute_result"
    }
   ],
   "source": [
    "mflfd.rec[199]"
   ]
  },
  {
   "cell_type": "code",
   "execution_count": 11,
   "metadata": {},
   "outputs": [
    {
     "data": {
      "text/plain": [
       "array([ 0,  1,  2,  3,  4,  5,  6,  7,  8,  9, 10, 11, 12, 13, 14, 15, 16,\n",
       "       17, 18, 19, 20, 21, 22, 23, 24, 25, 26, 27, 28, 29, 30, 31, 32, 33,\n",
       "       34, 35, 36, 37, 38, 39, 40, 41, 42, 43, 44, 45, 46, 47, 48, 49])"
      ]
     },
     "execution_count": 11,
     "metadata": {},
     "output_type": "execute_result"
    }
   ],
   "source": [
    "mflfd.item_indices[2]"
   ]
  },
  {
   "cell_type": "code",
   "execution_count": 12,
   "metadata": {},
   "outputs": [
    {
     "data": {
      "text/plain": [
       "PredictedScores([-0.0039357 ,  0.07485203, -0.04236126, -0.08997958,\n",
       "                  0.04977737,  0.05714712, -0.02264841,  0.00065783,\n",
       "                  0.26111283,  0.03112025,  0.06541505,  0.04389587,\n",
       "                 -0.02299957,  0.17046344,  0.03256437,  0.05220518,\n",
       "                  0.06831269,  0.26197084,  0.05722312, -0.02929727,\n",
       "                  0.09663108,  0.26124397,  0.25247822, -0.02349746,\n",
       "                  0.26514799,  0.05324277,  0.26333212,  0.10349831,\n",
       "                  0.26795013,  0.26160695, -0.05863118,  0.16903596,\n",
       "                 -0.09654743,  0.08529744,  0.06277408,  0.26046603,\n",
       "                  0.10980759,  0.12831767, -0.05818659,  0.08965369,\n",
       "                  0.08007001,  0.03490471,  0.1557519 , -0.05190988,\n",
       "                 -0.05334527,  0.04428788, -0.05412159,  0.26565358,\n",
       "                 -0.11552737,  0.0391694 ])"
      ]
     },
     "execution_count": 12,
     "metadata": {},
     "output_type": "execute_result"
    }
   ],
   "source": [
    "mflfd.predicted_scores[199]"
   ]
  },
  {
   "cell_type": "code",
   "execution_count": 13,
   "metadata": {},
   "outputs": [],
   "source": [
    "top_n_limit=50\n",
    "k=10\n",
    "\n",
    "row = np.repeat(mflfd.users.user_vector, mflfd.item_indices.shape[1])\n",
    "row = row.reshape((mflfd.num_users, -1))\n",
    "s_filtered = mflfd.predicted_scores[row, mflfd.item_indices]\n",
    "\n",
    "negated_scores = -1 * s_filtered  # negate scores so indices go from highest to lowest\n",
    "# break ties using a random score component\n",
    "scores_tiebreak = np.zeros(\n",
    "    negated_scores.shape, dtype=[(\"score\", \"f8\"), (\"random\", \"f8\")]\n",
    ")\n",
    "scores_tiebreak[\"score\"] = negated_scores\n",
    "scores_tiebreak[\"random\"] = mflfd.random_state.random(negated_scores.shape)\n",
    "top_k = scores_tiebreak.argpartition(top_n_limit - 1, order=[\"score\", \"random\"])[:, :top_n_limit]\n",
    "# now we sort within the top k\n",
    "row = np.repeat(mflfd.users.user_vector, top_n_limit).reshape((mflfd.num_users, -1))\n",
    "# again, indices should go from highest to lowest\n",
    "sort_top_k = scores_tiebreak[row, top_k].argsort(order=[\"score\", \"random\"])\n",
    "top_k_recs = mflfd.item_indices[row, top_k[row, sort_top_k]]\n",
    "\n",
    "#dims are attribute, items, users\n",
    "top_k_att = mflfd.items_hat[:, top_k_recs[:]].swapaxes(1,2)\n"
   ]
  },
  {
   "cell_type": "code",
   "execution_count": null,
   "metadata": {},
   "outputs": [],
   "source": [
    "# top_item_att = items_att_filt[:,0, :]\n",
    "# top_item_idx = top_k_recs[:, 0].reshape(top_k_recs.shape[0],1)"
   ]
  },
  {
   "cell_type": "code",
   "execution_count": null,
   "metadata": {},
   "outputs": [],
   "source": [
    "# # all_recs_idx = np.empty([mflfd.users_hat.shape[0], k])\n",
    "# # print(all_recs_idx.shape)\n",
    "# # print(top_item_idx.shape)\n",
    "# # all_recs[:, 0] = top_item_idx[:,None]\n",
    "# all_recs_idx = top_k_recs[:,0].reshape(top_k_recs.shape[0],1)\n",
    "# top_k_recs[0,0]"
   ]
  },
  {
   "cell_type": "code",
   "execution_count": 14,
   "metadata": {},
   "outputs": [
    {
     "name": "stdout",
     "output_type": "stream",
     "text": [
      "[28]\n",
      "[[0.         0.         2.91723351 2.48022334 2.91139904 3.0781765\n",
      "  2.1482682  3.54380254 2.34108507 3.52366134 2.96135085 2.45374892\n",
      "  3.5003844  3.26835241 3.12476421 2.88737305 3.18179196 3.06699265\n",
      "  3.39895907 4.05388131 3.30111248 2.92986029 3.6981555  3.07802181\n",
      "  2.84052437 2.98928176 3.4381535  3.20087377 3.67225777 2.80911792\n",
      "  3.38658493 3.42826583 3.33773471 3.39164808 2.90524187 3.27303615\n",
      "  3.43312962 3.08570601 3.118288   3.11164422 3.19106259 3.89933909\n",
      "  3.64881616 3.27486073 3.42752619 3.50400078 3.39188873 2.79702314\n",
      "  3.27341293 3.08458329]]\n",
      "28 19 4.053881307784937\n"
     ]
    }
   ],
   "source": [
    "#store the id of the highest predicted item for each user as a start\n",
    "all_recs_idx = top_k_recs[:,0].reshape(top_k_recs.shape[0],1)\n",
    "for idx, user in enumerate(mflfd.users_hat):\n",
    "\n",
    "        #get the top rec and add that as the first item for each user\n",
    "        #user_item_feats = top_k_att[:,:,idx]\n",
    "        \n",
    "        #make a copy so as not to modify the original array\n",
    "        user_item_feats = np.array(top_k_att[:,:,idx])\n",
    "        \n",
    "        orig_user_item_feats = np.array(user_item_feats)\n",
    "        #user_item_feats_idx = [0]\n",
    "        user_max_idx = top_k_recs[idx, 0] \n",
    "        recs_idxs = [user_max_idx]\n",
    "        \n",
    "        #hold the features of the recommended items\n",
    "        recs_features = mflfd.items_hat[:,user_max_idx]\n",
    "        \n",
    "        distances = []\n",
    "        \n",
    "        for rec in range(1,k):\n",
    "            \n",
    "            #user_item_feats_idx.append(rec)\n",
    "            \n",
    "            #drop element from user_item_feats that has been put in the recommendations\n",
    "            ##DONT DO THIS BECAUSE IT MAKES INDEXING MORE COMPLEX\n",
    "            #mask = np.invert(np.isin(user_item_feats, recs_features))\n",
    "            #user_item_feats = user_item_feats[mask].reshape(user_item_feats.shape[0], -1).shape\n",
    "            \n",
    "            if rec == 1:\n",
    "                #for the second item, just use the first item values\n",
    "                centroid = recs_features\n",
    "            else:\n",
    "                centroid = np.nanmean(recs_features, axis=0)\n",
    "\n",
    "            centroid = centroid.reshape(1, -1)\n",
    "\n",
    "            #set all the previously chosen item features to the centroid, so they will not be selected again\n",
    "            #don't want to just remove rows because it will throw of the indexing\n",
    "            user_item_feats[:, 0:rec+1]=centroid.T\n",
    "\n",
    "            d = pairwise_distances(X=centroid, Y=user_item_feats.T, metric='cityblock',force_all_finite='allow_nan' )\n",
    "            \n",
    "            most_distant = np.argmax(d)\n",
    "            \n",
    "            if rec == 1 and idx == 199:\n",
    "                print(recs_idxs)\n",
    "                print(d)\n",
    "                print (user_max_idx, most_distant, d.max())\n",
    "            \n",
    "            distances.append(d.max())\n",
    "            \n",
    "            most_distant_feats = user_item_feats.T[most_distant]\n",
    "            \n",
    "            #get the index of the most distant item in the top k recs\n",
    "            recs_idxs.append(top_k_recs[idx, most_distant])\n",
    "            #recs_idxs.append(most_distant)\n",
    "            #get the item index from the original array of indices, not the constrained array\n",
    "            #orig_recs_idxs.append(top_k_recs[idx, most_distant])\n",
    "            #recs_preds.append(n_ratings[idx][most_distant])\n",
    "\n",
    "            recs_features = np.vstack((recs_features, user_item_feats[:, most_distant]))\n"
   ]
  },
  {
   "cell_type": "code",
   "execution_count": 15,
   "metadata": {},
   "outputs": [
    {
     "name": "stdout",
     "output_type": "stream",
     "text": [
      "(20,)\n",
      "(20, 50)\n",
      "[-0.04235257  0.09234527  0.12974366  0.31111835  0.30281501 -0.12389591\n",
      " -0.22377909  0.15149489 -0.25298534  0.07490045  0.02758562  0.06873254\n",
      "  0.00478463 -0.19935663  0.11956094  0.1057478   0.16910094  0.01691764\n",
      "  0.07907935  0.01562524]\n"
     ]
    }
   ],
   "source": [
    "#last_user_top_k = top_k_recs[-1]\n",
    "#print(last_user_top_k)\n",
    "recs_features = mflfd.items_hat[:,user_max_idx]\n",
    "print(recs_features.shape)\n",
    "print(mflfd.items_hat.shape)\n",
    "print(recs_features)"
   ]
  },
  {
   "cell_type": "code",
   "execution_count": 16,
   "metadata": {},
   "outputs": [
    {
     "name": "stdout",
     "output_type": "stream",
     "text": [
      "[[-4.23525654e-02  1.58360991e-01  1.03841234e-01 -2.80776840e-01\n",
      "   4.53705217e-02  4.22068739e-02  6.72889896e-02  1.43032438e-01\n",
      "   1.61501115e-01  1.02811942e-02  2.67063420e-01  9.30567310e-02\n",
      "   1.61165399e-01  6.03234326e-02 -5.19057903e-03  2.12011509e-01\n",
      "   5.15101120e-02 -1.35996261e-01 -2.59408470e-01 -5.32085771e-02\n",
      "   5.87818963e-02  2.22274737e-01  7.22131433e-02 -5.49438045e-03\n",
      "   1.49365723e-01 -1.48783142e-01  6.64591126e-02 -5.01929000e-03\n",
      "   1.91541706e-01  6.70890256e-02 -2.36376089e-02  5.84611124e-02\n",
      "  -4.11086579e-02  3.16090734e-02  2.59304859e-03 -1.58080796e-01\n",
      "   1.86255658e-01 -3.16786886e-02 -2.47615344e-02  7.11207244e-02\n",
      "   5.41692417e-02  2.11061879e-01 -8.72305289e-02  1.20053549e-01\n",
      "   2.49961547e-02  1.05239102e-01 -2.71981267e-02 -1.24723096e-01\n",
      "   2.79004216e-02 -1.18632561e-01]\n",
      " [ 9.23452670e-02  2.59434218e-02  2.21163844e-01  1.14993851e-01\n",
      "   1.08790710e-01  1.97779264e-01  2.83594892e-01 -6.07971134e-02\n",
      "   3.60893243e-01  7.18301219e-02  1.95460398e-01  1.47505463e-01\n",
      "   1.81545154e-01 -1.51912817e-02  6.19729260e-02  9.18447570e-02\n",
      "   1.87381409e-01  1.04277242e-01  1.35029493e-02 -3.61620559e-01\n",
      "  -7.85378731e-02 -1.91966205e-01  3.25006589e-01  3.82675523e-03\n",
      "  -1.67860406e-01  1.68910952e-01  1.55723330e-01  2.00119290e-01\n",
      "   8.78623892e-03 -4.11281916e-01 -2.27640106e-01 -9.34595609e-02\n",
      "   5.92869117e-02  1.16287419e-01  1.38625238e-01  7.88796023e-02\n",
      "  -9.68267444e-02  1.41287744e-01  5.72074609e-02  1.57578523e-01\n",
      "   3.81534523e-02 -1.26153036e-01  1.78598120e-01 -6.86190780e-02\n",
      "  -1.60466843e-01 -3.15137965e-02 -2.45787291e-02  2.30917646e-02\n",
      "  -1.79230554e-01  3.64332584e-02]\n",
      " [ 1.29743657e-01  2.20564527e-01  4.86701225e-02  1.76296386e-01\n",
      "   1.43029556e-01  1.32067862e-01  4.63372450e-02  2.50264120e-01\n",
      "   1.69377221e-01  3.30473978e-01 -7.85012195e-04  1.19428441e-01\n",
      "  -1.96010353e-01  1.64962127e-01  1.66855172e-01  3.61045359e-02\n",
      "   1.03189218e-01 -1.53556968e-01  1.43012326e-01  2.18096466e-01\n",
      "   2.21151163e-01 -2.66706201e-02 -6.58616497e-02  6.92456364e-02\n",
      "   1.60423135e-01  3.43337888e-01  1.55725010e-01  1.05279230e-01\n",
      "  -4.55457401e-02  2.07859966e-01  1.07620129e-01  1.84265492e-01\n",
      "   2.41135928e-02  6.91745165e-02 -2.47352367e-01 -1.94447118e-01\n",
      "   8.05708292e-02 -1.39085242e-02 -2.52695446e-01  1.29217834e-01\n",
      "  -8.08313223e-02 -2.53979023e-02 -5.74539915e-02  9.51890271e-02\n",
      "   1.57444368e-01 -1.76247349e-01 -6.44724861e-03 -3.45010721e-01\n",
      "  -9.69205982e-02 -2.85854836e-01]\n",
      " [ 3.11118346e-01  2.45397449e-01  9.62930556e-02  9.87851793e-02\n",
      "   7.46399639e-02 -8.74737634e-02  2.00842371e-01  6.74700929e-02\n",
      "   1.58457701e-01 -1.90880357e-01  2.15358295e-01  2.80252815e-02\n",
      "  -2.98430745e-02  2.60310363e-01 -1.68967867e-01 -6.40547535e-02\n",
      "  -3.69103533e-01 -1.17403635e-01  8.32136587e-03 -6.48026710e-02\n",
      "   1.56617412e-01  1.52724130e-01  9.50301293e-02  6.63908632e-02\n",
      "  -2.72050207e-01 -1.79033013e-01 -2.04555035e-02 -4.15897797e-02\n",
      "  -6.94750904e-03  2.54669663e-01  8.04287327e-02 -3.18948374e-01\n",
      "  -5.99926646e-02  1.57562229e-01 -3.09694177e-02  1.10450358e-02\n",
      "   8.28419278e-03  9.41606103e-02  2.11751491e-01 -2.86553278e-01\n",
      "  -1.99436350e-02 -4.33162371e-01 -1.20020843e-01 -1.95543125e-02\n",
      "  -1.24942492e-02 -6.01989925e-02 -1.56244929e-01  1.26865522e-01\n",
      "   5.63399461e-02  2.21164821e-01]\n",
      " [ 3.02815010e-01 -6.18066269e-02  1.51606903e-01  2.77769337e-01\n",
      "   1.23217705e-01 -4.05191620e-02  3.56256644e-01  1.98675022e-01\n",
      "   3.37847621e-01 -2.13926295e-02 -1.04079937e-01  2.98210412e-01\n",
      "   1.37363678e-01 -5.21479290e-02  1.89994689e-01  2.80431910e-01\n",
      "   1.76868445e-01  1.58065508e-01 -1.61819536e-01  8.33191863e-02\n",
      "   1.80149795e-01  4.12587928e-01  1.53355573e-01  3.83237818e-01\n",
      "   1.13058375e-01  8.87406290e-02 -1.88288016e-01 -5.01846098e-02\n",
      "   3.24236355e-02  1.82604358e-03 -7.41017252e-02  3.90248684e-01\n",
      "  -3.47628241e-01  2.38638383e-01 -1.66597414e-01  1.93152818e-01\n",
      "   4.33377621e-02 -1.27341595e-01 -2.38624833e-01  1.22718073e-01\n",
      "  -1.32671427e-01 -1.34507899e-01 -6.86739194e-02 -1.18666057e-01\n",
      "  -1.15829770e-01 -3.10525803e-02  1.87870953e-02  1.38132392e-01\n",
      "   1.76668116e-01  1.81446076e-01]\n",
      " [-1.23895913e-01  7.42010424e-02  6.78666359e-02 -1.84601780e-01\n",
      "   1.08177592e-01 -1.87328241e-01 -7.08709960e-02 -1.71137390e-01\n",
      "  -1.85991435e-01  2.61324952e-02 -3.96525550e-02 -6.97899258e-02\n",
      "  -1.43827785e-01  6.63597675e-02  1.90202114e-01  5.89185576e-02\n",
      "   1.57302782e-01 -1.37092196e-01  8.89329193e-02  1.49435175e-01\n",
      "   1.90335323e-01  3.13650776e-01  2.41998363e-01 -1.34790964e-01\n",
      "  -1.96332147e-02  2.45976253e-01  5.53644624e-02 -9.77575300e-02\n",
      "  -1.83563440e-01  1.05439841e-01 -7.40167389e-03 -4.78279507e-02\n",
      "   6.64723016e-02  2.25154394e-01 -1.61993759e-01 -4.21153974e-02\n",
      "   8.72791800e-02  3.65902310e-02  1.15784051e-03  2.21504363e-01\n",
      "  -2.63174396e-01  1.00253301e-01  4.09977976e-02  6.08678247e-02\n",
      "   1.70878450e-01  2.42374444e-01  5.37990292e-02  1.37999700e-01\n",
      "  -8.86457716e-02  1.92620274e-01]\n",
      " [-2.23779089e-01  7.78126889e-02  4.27910879e-02 -3.78680329e-04\n",
      "   5.65962231e-02  1.23477113e-01 -1.90182401e-01 -6.18569663e-02\n",
      "   6.11902031e-02 -5.17377976e-03 -1.09005091e-02  7.90808459e-02\n",
      "   1.00475718e-01 -5.66305178e-03  1.16537113e-01 -2.01828206e-01\n",
      "  -1.33869901e-01  9.07465551e-02 -2.13914652e-01  2.13086984e-01\n",
      "  -2.83612293e-02 -1.31453407e-01  1.26703862e-01 -2.61804585e-02\n",
      "  -6.46715760e-02  1.23146969e-02 -6.92927145e-02  1.38376335e-01\n",
      "   1.92437853e-02 -6.92467550e-02  1.59764433e-01  1.95390866e-03\n",
      "   7.94623309e-02 -7.40499856e-02 -4.50646180e-02  9.72513598e-02\n",
      "   1.88274915e-02 -3.53402327e-02 -1.46065989e-02 -1.69374726e-01\n",
      "  -8.18634242e-02  1.71779152e-02 -8.88673617e-03  1.99851143e-01\n",
      "   1.28086376e-01 -3.55138027e-02 -5.82174027e-02  1.66774198e-01\n",
      "  -3.86386793e-02 -4.48526286e-02]\n",
      " [ 1.51494888e-01 -3.39407557e-02 -7.63902566e-02  1.17930322e-01\n",
      "  -7.44903957e-02  9.59096596e-02 -6.34072752e-02  1.21878088e-01\n",
      "   1.00951473e-01  2.79468101e-01  3.79457028e-01  1.53798756e-01\n",
      "  -5.47754547e-04 -1.60391893e-01  7.32908041e-02 -2.55691461e-02\n",
      "   1.71760479e-01  8.40583662e-02  5.98662361e-02 -1.54386759e-02\n",
      "  -8.87407614e-02  1.94036464e-01 -3.63017745e-02  6.33694515e-02\n",
      "  -3.07414065e-02  1.66699003e-01  1.93463888e-01 -2.71203915e-01\n",
      "  -1.70212539e-01  1.51575524e-01 -1.04542870e-01 -6.02608175e-02\n",
      "   1.91833019e-01 -2.34392440e-01  1.69355898e-01  6.20695186e-02\n",
      "   7.43735447e-02  1.62494205e-01  9.24584310e-02 -5.54337523e-02\n",
      "  -1.11196163e-01  1.06717157e-01 -2.38665007e-02 -1.86507593e-02\n",
      "   2.15189572e-01  4.68769680e-03 -2.44793966e-02  1.45024710e-01\n",
      "   2.48958929e-01 -9.07075764e-02]\n",
      " [-2.52985341e-01  2.60155407e-02  1.67074153e-01  4.87235343e-02\n",
      "  -1.63738880e-01  1.08197878e-01 -1.32779939e-01  3.69807885e-01\n",
      "  -1.00309998e-01 -5.61553147e-02 -8.36282239e-02 -3.27967677e-02\n",
      "  -1.72376840e-01  1.13714505e-01 -8.30867674e-02 -1.32782838e-01\n",
      "   9.02841578e-02  2.39713169e-01  8.03674388e-02  2.09881412e-01\n",
      "   3.76188024e-02  2.19393061e-02 -1.07524474e-01  1.38140325e-01\n",
      "  -1.41605849e-01 -1.33805806e-01  4.00345936e-03  1.00188788e-01\n",
      "   1.27017229e-01 -8.48783235e-02  7.69604377e-02  5.48359386e-02\n",
      "  -5.63257445e-02  9.28114395e-02  7.96994374e-02  9.22227147e-02\n",
      "   5.20772098e-03  1.13971534e-01  8.99915458e-02  2.25543714e-01\n",
      "   1.14565562e-01  9.82325385e-02 -4.17725582e-02 -1.66169953e-01\n",
      "   3.09354549e-02  1.17397606e-01 -1.69281097e-01  6.65646523e-02\n",
      "   1.39086387e-02 -6.08763064e-03]\n",
      " [ 7.49004488e-02 -6.72248648e-03  9.53324199e-02 -4.69677485e-02\n",
      "   1.85558726e-02 -1.55311249e-02  7.22533716e-02 -1.80308118e-01\n",
      "  -2.52276126e-01  2.00721617e-01 -1.20583066e-01 -2.84584759e-01\n",
      "   1.49479062e-01 -1.30782394e-01  2.84821579e-02 -4.21795555e-02\n",
      "   6.37766663e-02  7.53279236e-02  2.16676449e-01  1.22880937e-01\n",
      "  -1.14311211e-02 -1.30673300e-02  7.30900947e-03  9.57765898e-02\n",
      "   5.13114114e-02  1.42447999e-01  7.91518448e-02  2.83800959e-03\n",
      "   2.07100559e-01  1.06745319e-01  5.11488715e-02 -7.02268434e-02\n",
      "   1.16449797e-02 -1.01457534e-01 -4.72042669e-02 -7.23868019e-02\n",
      "   2.12985883e-01  1.35834045e-02 -1.91695400e-02  9.12567031e-02\n",
      "  -1.15979483e-01  2.53322326e-02  7.03320534e-02  8.75684697e-02\n",
      "  -2.09434637e-01  8.99894886e-03 -2.39060944e-01  8.05480763e-02\n",
      "   1.58543428e-01 -3.37880661e-02]\n",
      " [ 2.75856164e-02  1.85808471e-02 -3.44176130e-02 -3.56921244e-03\n",
      "  -2.30245638e-01  4.84878676e-02 -2.29932046e-03 -1.61751941e-01\n",
      "   2.26465700e-03  4.40448844e-02 -1.31913723e-01  1.02626605e-01\n",
      "  -1.21583038e-03 -4.50176307e-03 -1.34980896e-01  1.89000624e-01\n",
      "  -2.67437468e-02 -1.33000782e-01  4.68905084e-02 -9.45823895e-02\n",
      "   9.26932827e-02 -1.25119476e-01 -1.24086772e-01  2.84157685e-01\n",
      "   1.31450068e-01  1.75903525e-01  3.74517605e-01  1.21794447e-01\n",
      "  -1.68464327e-01  8.40580259e-02 -2.44530610e-01  1.52735784e-01\n",
      "  -2.94113497e-03  1.06879211e-01 -2.39361560e-01  6.23422240e-02\n",
      "   1.87793370e-01  6.26541333e-02  8.77989851e-02 -7.13033426e-03\n",
      "   2.79758112e-01 -2.96238493e-02  2.34877691e-01  2.92059357e-01\n",
      "   6.98170487e-02  1.07240456e-02 -6.16851504e-03  8.36162200e-02\n",
      "   1.10268181e-01  1.41835066e-01]\n",
      " [ 6.87325375e-02  1.13908203e-01  1.66642819e-01  1.76509754e-01\n",
      "  -2.27522297e-02  9.17435960e-02  1.51583829e-02 -1.48882760e-01\n",
      "  -1.22449067e-01  1.14115475e-01 -4.31700229e-02  8.86274129e-02\n",
      "   1.27971306e-01 -1.25360494e-01 -1.50578246e-02 -2.20529172e-02\n",
      "   8.12792494e-02 -5.41186729e-02  5.00231493e-02 -2.92490093e-02\n",
      "  -2.56000570e-01 -3.88133882e-02 -1.90224083e-01 -1.57335659e-01\n",
      "   7.52590033e-02  2.27078570e-02 -1.13494299e-01  1.49416743e-02\n",
      "  -1.16002709e-01  3.54010903e-02  1.52731233e-01 -5.16642142e-02\n",
      "  -1.00509207e-01  1.29501638e-01  3.86252721e-02  1.00640808e-01\n",
      "   1.14332441e-01  6.33578671e-02  6.76496389e-02 -4.89398748e-02\n",
      "   1.43652029e-01  9.33657083e-02 -3.82146986e-02 -1.92402237e-01\n",
      "  -7.26729799e-03  1.99512466e-02  1.93432567e-01  4.29226392e-02\n",
      "  -3.31741290e-02 -5.40775171e-02]\n",
      " [ 4.78462899e-03 -2.01557313e-01 -7.77706604e-02 -9.05094073e-02\n",
      "   6.39383351e-02  1.28229567e-01  1.90429168e-01 -6.97978986e-03\n",
      "  -1.15671897e-01 -1.70114964e-01  2.83606795e-02 -1.60678379e-01\n",
      "   1.17415213e-01  7.39766584e-02 -1.87232388e-01  1.18796254e-01\n",
      "  -4.75992764e-02  1.68377067e-01  8.89934542e-02 -6.35593273e-03\n",
      "  -6.35582644e-02 -1.01016691e-01 -7.51605669e-02  1.37874806e-01\n",
      "   1.46477516e-01 -9.26884763e-02  1.62327697e-01 -1.53690954e-01\n",
      "   1.66599673e-01  1.20996795e-02  1.36649290e-01 -2.88160487e-01\n",
      "   1.22574480e-01  7.67448390e-02  7.05521469e-03  9.02250266e-02\n",
      "   4.50716727e-02  1.76932701e-01 -1.84629139e-01  1.42052587e-01\n",
      "   7.65065051e-02  1.31448420e-01 -4.74916179e-02 -5.00363123e-02\n",
      "   2.13705954e-01 -1.39454051e-01  2.21557360e-01  7.14528892e-02\n",
      "   1.83519256e-01  3.02388333e-03]\n",
      " [-1.99356628e-01 -2.44409859e-02 -1.34133115e-01 -1.35787875e-02\n",
      "   1.33997035e-01  1.39528292e-01 -1.76008848e-01  1.56159767e-01\n",
      "  -1.18012863e-01  1.26794562e-01 -1.58672829e-01  8.35623001e-02\n",
      "   1.01177464e-01  2.23472159e-01  1.26295721e-01  9.91051977e-02\n",
      "   6.79752944e-02 -1.41884131e-01  1.25606336e-01  2.25097991e-01\n",
      "   1.87222100e-02 -3.54764238e-02  2.14803039e-01  2.20427464e-02\n",
      "   1.07695644e-01 -2.78308566e-02 -9.51922298e-02 -2.20648247e-02\n",
      "   7.13640937e-02  1.55214157e-01  1.01868936e-01  3.08173989e-01\n",
      "   1.78418966e-02  1.55479459e-01  9.28935707e-02 -5.06746927e-02\n",
      "   1.05410761e-01  1.96421657e-01  1.59410522e-01  1.27348614e-01\n",
      "  -8.58730738e-02  1.78316136e-01  1.45956683e-01  3.94798309e-02\n",
      "  -1.37207503e-01  4.39570074e-02  1.70652352e-01 -1.08030594e-01\n",
      "   2.27223699e-01 -2.31011313e-02]\n",
      " [ 1.19560941e-01 -7.98826384e-02  2.01045079e-02 -8.50471202e-02\n",
      "  -6.66513606e-02 -1.43728231e-01  1.75949523e-02 -7.73500207e-03\n",
      "   1.26992399e-01 -1.37320543e-01  1.28653080e-01  1.28761379e-02\n",
      "  -1.03741445e-01 -1.15824086e-01  1.60377791e-01 -2.14276436e-01\n",
      "   4.80705315e-03 -1.17004643e-01 -4.77468332e-02 -9.04178789e-02\n",
      "   8.58941760e-02 -2.28987423e-02  1.11282634e-01 -1.83347834e-01\n",
      "   4.51651958e-02  1.32519408e-01 -5.64325475e-02  1.06983169e-01\n",
      "   1.60651526e-01 -2.56424065e-02  1.12279880e-01  6.86284222e-02\n",
      "  -1.53787396e-01 -8.78432797e-02  6.93347988e-02 -5.91428178e-03\n",
      "   1.13357603e-01  1.95440357e-01  8.41964984e-02  1.97893014e-01\n",
      "   3.57758993e-02 -1.02014792e-01 -2.78635146e-02  1.30658685e-01\n",
      "   7.62032180e-02  5.29802579e-02  1.53284067e-01 -5.85037112e-02\n",
      "   8.49204517e-02  7.32382217e-02]\n",
      " [ 1.05747804e-01 -2.40319723e-01 -3.93301300e-02  1.37641094e-01\n",
      "   1.59691338e-01 -1.23625286e-01 -4.66035910e-02 -1.58261418e-01\n",
      "   7.69914446e-02  2.60718972e-01 -6.20289230e-02 -6.34825415e-03\n",
      "  -2.11432528e-02  1.58505611e-01 -1.46264693e-02  1.10853370e-01\n",
      "  -2.10379882e-01  9.80078457e-02 -2.25070537e-01 -1.72668508e-02\n",
      "   1.66186340e-01  1.33282482e-01 -1.64309162e-01  2.50815913e-01\n",
      "   3.37092765e-04  4.92494831e-03 -8.42464566e-02  1.44717963e-01\n",
      "  -8.68342113e-02  1.92406315e-01  2.75214637e-01  7.43786259e-02\n",
      "   2.83396069e-01  7.37573231e-02  1.40535739e-01  1.99012263e-01\n",
      "   1.28478466e-01  2.86278883e-02  3.93949459e-02  1.24635163e-01\n",
      "   1.83137870e-01  1.96662519e-01 -1.31656913e-01  6.68606422e-02\n",
      "  -2.83046324e-02  9.72626305e-03 -8.31474195e-02  2.75305551e-02\n",
      "  -1.44060542e-02 -8.97820774e-02]\n",
      " [ 1.69100943e-01  5.63510782e-03  1.16789156e-01 -4.77245760e-02\n",
      "   1.21410298e-01  1.48553595e-01 -5.26326300e-02  1.09782367e-01\n",
      "   6.67395878e-02 -2.18206255e-01 -3.52623164e-02  9.48170655e-02\n",
      "  -1.62402641e-01 -7.10685557e-03  1.07824533e-01 -1.05185076e-01\n",
      "  -1.60602791e-01  3.94603061e-02 -8.47704395e-02 -3.15641068e-02\n",
      "  -2.63497543e-02  1.05510965e-01 -8.47922369e-02 -5.53337970e-02\n",
      "   1.17883488e-01  4.79427428e-02  1.50361872e-02 -6.73248529e-02\n",
      "  -1.25244725e-02 -3.12316070e-02 -1.07165384e-01  1.17231973e-01\n",
      "   1.06243731e-01 -5.40090784e-02  1.02528401e-01 -1.30982441e-01\n",
      "  -1.19311993e-01 -9.97210421e-02  5.64802726e-02  6.20271302e-02\n",
      "   1.12289574e-01  5.55867761e-02  2.61316742e-01  8.62403398e-03\n",
      "  -6.00946468e-02  2.75382003e-01  3.57143292e-02  3.04242554e-02\n",
      "  -2.80115624e-02  3.61761447e-02]\n",
      " [ 1.69176444e-02 -1.93872891e-01  1.09622399e-01  1.92226306e-01\n",
      "   1.66216963e-01  2.01054363e-03  1.21716386e-01  1.55775050e-01\n",
      "  -3.85636718e-02  1.44930963e-01 -1.16807881e-01 -9.31283990e-02\n",
      "   2.94882875e-01  1.66450499e-02  2.18986740e-01  8.96860728e-02\n",
      "   1.34270581e-01  1.80285145e-01  1.79313451e-01  2.07231387e-01\n",
      "   3.53480395e-01 -9.68383827e-02  4.06935878e-02 -4.53808456e-02\n",
      "   1.60032504e-01 -1.77663536e-01  7.93322995e-02 -5.72339942e-02\n",
      "  -7.22101714e-02 -8.24743444e-02 -2.42370887e-03  1.99060229e-01\n",
      "  -9.97805276e-02 -2.70831217e-01  3.11518727e-02  2.87761637e-01\n",
      "  -2.45486306e-02  3.44647955e-02  1.76443475e-01 -3.98921763e-02\n",
      "  -6.32151341e-03  6.47109176e-02 -2.65066529e-01  1.63807688e-01\n",
      "   4.82140517e-03 -2.62016332e-02  2.17119207e-01 -2.62586254e-02\n",
      "  -2.59199435e-01  2.02054051e-01]\n",
      " [ 7.90793541e-02  1.68181754e-01 -2.17120308e-01  2.50784031e-04\n",
      "  -1.24272786e-01  9.59167139e-02  2.53989197e-01 -1.23100784e-01\n",
      "   2.09976603e-03  1.29422476e-02 -1.66690455e-02  8.52906474e-02\n",
      "  -1.43013550e-01  1.48544680e-01  7.70316492e-03  3.65309705e-03\n",
      "   9.25000633e-02  1.39943931e-01  1.15929467e-01  1.24933108e-01\n",
      "  -5.78716680e-02  1.69367387e-02  2.00127363e-01 -1.18206194e-01\n",
      "   8.33502238e-02 -4.29283519e-02 -1.66034721e-01  1.05126763e-01\n",
      "   1.01960177e-01  6.56282185e-03  1.01698494e-01  4.30170058e-02\n",
      "   1.85719227e-01 -1.63705976e-01  1.25993296e-01  3.30503395e-01\n",
      "  -2.55462535e-01 -9.65726523e-02 -7.08911666e-02 -8.53247575e-02\n",
      "  -1.67464552e-02 -3.56224617e-02 -2.02542194e-02  7.77516391e-03\n",
      "  -2.28091035e-02  2.24254647e-01  8.82016616e-03 -2.42568307e-02\n",
      "  -6.21257832e-02 -1.36371927e-02]\n",
      " [ 1.56252441e-02  1.09303929e-01 -5.93367390e-02  8.21282143e-02\n",
      "   1.27147698e-01 -1.59221548e-01 -1.12040558e-01  6.99145508e-02\n",
      "  -5.89582704e-02 -3.24891328e-02  9.49688011e-02 -5.79578533e-02\n",
      "   5.67485400e-02 -5.65942562e-02 -2.02712352e-01  1.11728928e-01\n",
      "   1.52077889e-01  1.29504879e-01  1.50105703e-01 -7.61158552e-02\n",
      "  -7.87432408e-02 -6.59929676e-02 -7.51377935e-02 -7.36251550e-02\n",
      "   8.25002301e-02 -5.00732532e-02 -1.46276819e-01  2.33050509e-01\n",
      "   1.29454969e-01 -1.05176708e-01  3.98272278e-02  1.09036392e-02\n",
      "   1.26061806e-01  6.43482422e-02  1.47272479e-01 -6.76807830e-02\n",
      "  -2.16841205e-01 -2.08109642e-01  9.43175225e-02  4.46927953e-03\n",
      "   1.27185918e-01  2.09574542e-02  2.02364605e-01 -2.32116823e-02\n",
      "   1.64549962e-01 -1.57748557e-01  9.92553051e-02  7.19119929e-02\n",
      "   1.12095014e-01  1.80158138e-01]]\n"
     ]
    }
   ],
   "source": [
    "user_item_feats = np.array(top_k_att[:,:,idx])\n",
    "print(user_item_feats)"
   ]
  },
  {
   "cell_type": "code",
   "execution_count": 22,
   "metadata": {},
   "outputs": [
    {
     "name": "stdout",
     "output_type": "stream",
     "text": [
      "(20,)\n"
     ]
    }
   ],
   "source": [
    "#last_user_items_att = mflfd.items_hat[:, last_user_top_k]\n",
    "#last_user_items_att.shape\n",
    "#centroid = last_user_items_att[0,:].reshape(1,-1)\n",
    "#print(centroid.shape)\n",
    "centroid2 = recs_features\n",
    "print(centroid2.shape)"
   ]
  },
  {
   "cell_type": "code",
   "execution_count": 21,
   "metadata": {},
   "outputs": [
    {
     "name": "stdout",
     "output_type": "stream",
     "text": [
      "(20, 50)\n"
     ]
    }
   ],
   "source": [
    "#print(last_user_items_att.shape)\n",
    "print(user_item_feats.shape)"
   ]
  },
  {
   "cell_type": "code",
   "execution_count": 27,
   "metadata": {},
   "outputs": [
    {
     "data": {
      "text/plain": [
       "array([28, 47, 24, 26, 17, 29, 21,  8, 35, 22, 13, 31, 42, 37, 36, 27, 20,\n",
       "       39, 33, 40,  1, 16, 10, 34, 18,  5, 25, 15,  4, 45, 11, 49, 41, 14,\n",
       "        9,  7,  0,  6, 12, 23, 19,  2, 43, 44, 46, 38, 30,  3, 32, 48])"
      ]
     },
     "execution_count": 27,
     "metadata": {},
     "output_type": "execute_result"
    }
   ],
   "source": [
    "top_k_recs[199,:]"
   ]
  },
  {
   "cell_type": "code",
   "execution_count": null,
   "metadata": {},
   "outputs": [],
   "source": [
    "d = pairwise_distances(X=centroid2, Y=user_item_feats.T, metric='cityblock',force_all_finite='allow_nan' )\n",
    "print(d)\n",
    "print(np.argmax(d))"
   ]
  },
  {
   "cell_type": "code",
   "execution_count": 23,
   "metadata": {},
   "outputs": [
    {
     "name": "stdout",
     "output_type": "stream",
     "text": [
      "[[0.         3.37201358 2.91723351 2.48022334 2.91139904 3.0781765\n",
      "  2.1482682  3.54380254 2.34108507 3.52366134 2.96135085 2.45374892\n",
      "  3.5003844  3.26835241 3.12476421 2.88737305 3.18179196 3.06699265\n",
      "  3.39895907 4.05388131 3.30111248 2.92986029 3.6981555  3.07802181\n",
      "  2.84052437 2.98928176 3.4381535  3.20087377 3.67225777 2.80911792\n",
      "  3.38658493 3.42826583 3.33773471 3.39164808 2.90524187 3.27303615\n",
      "  3.43312962 3.08570601 3.118288   3.11164422 3.19106259 3.89933909\n",
      "  3.64881616 3.27486073 3.42752619 3.50400078 3.39188873 2.79702314\n",
      "  3.27341293 3.08458329]]\n",
      "19\n"
     ]
    }
   ],
   "source": [
    "d = pairwise_distances(X=recs_features.reshape(1,-1), Y=user_item_feats.T, metric='cityblock',force_all_finite='allow_nan' )\n",
    "print(d)\n",
    "print(np.argmax(d))"
   ]
  },
  {
   "cell_type": "code",
   "execution_count": 24,
   "metadata": {},
   "outputs": [
    {
     "data": {
      "text/plain": [
       "[28, 40, 19, 10, 8, 22, 13, 43, 42, 16]"
      ]
     },
     "execution_count": 24,
     "metadata": {},
     "output_type": "execute_result"
    }
   ],
   "source": [
    "recs_idxs"
   ]
  },
  {
   "cell_type": "code",
   "execution_count": null,
   "metadata": {},
   "outputs": [],
   "source": [
    "test=mflfd.items_hat[:,user_max_idx].reshape(1, -1)\n",
    "#print(test.shape)\n",
    "d = pairwise_distances(X=test, Y=orig_user_item_feats.T, metric='cityblock',force_all_finite='allow_nan' )\n",
    "print(d)  \n",
    "\n",
    "print(d.max())"
   ]
  },
  {
   "cell_type": "code",
   "execution_count": null,
   "metadata": {},
   "outputs": [],
   "source": [
    "top_k_att.shape\n",
    "last_user_att = top_k_att[:,:,199]\n",
    "#print(recs_idxs)\n",
    "#print(distances)\n",
    "last_user_att.shape\n",
    "top_k_recs[199,12]"
   ]
  },
  {
   "cell_type": "code",
   "execution_count": null,
   "metadata": {},
   "outputs": [],
   "source": [
    "#distance.cityblock(mflfd.items_hat[18], mflfd.items_hat[9])\n",
    "\n",
    "all_ds = pairwise_distances(X=last_user_att[18].reshape(1, -1), Y=last_user_att, metric='cityblock',force_all_finite='allow_nan' )\n",
    "all_ds.argmax()"
   ]
  },
  {
   "cell_type": "code",
   "execution_count": null,
   "metadata": {},
   "outputs": [],
   "source": [
    "all_ds[18].max()\n",
    "#top_k_recs\n",
    "#user_max_idx = top_k_recs[idx, 0] "
   ]
  },
  {
   "cell_type": "code",
   "execution_count": null,
   "metadata": {},
   "outputs": [],
   "source": [
    "np.isin(user_item_feats, recs_features)\n",
    "mask = np.invert(np.isin(user_item_feats, recs_features))\n",
    "#mask.shape\n",
    "#result = user_item_feats[mask,...]\n",
    "\n",
    "#drop element from user_item_feats that has been put in the recommendations\n",
    "user_item_feats = user_item_feats[mask].reshape(user_item_feats.shape[0], -1).shape"
   ]
  },
  {
   "cell_type": "code",
   "execution_count": null,
   "metadata": {},
   "outputs": [],
   "source": [
    "user_item_feats.shape\n",
    "#C = np.delete(C, 1, 1)  # delete second column of C\n",
    "#np.where(np.isin(user_item_feats, recs_features), user_item_feats)"
   ]
  },
  {
   "cell_type": "code",
   "execution_count": null,
   "metadata": {},
   "outputs": [],
   "source": [
    "mask = np.ones(shape=user_item_feats.shape, dtype=bool)\n",
    "mask[recs_idxs] = False\n",
    "\n",
    "#mask[[0,2,4]] = False"
   ]
  },
  {
   "cell_type": "code",
   "execution_count": null,
   "metadata": {},
   "outputs": [],
   "source": [
    "def latent_factors_diversification(user_features, item_features, n_recs=10, top_n_limit=None):\n",
    "\n",
    "\n",
    "    hat_ratings = np.dot(user_features, item_features.T) \n",
    "\n",
    "    if top_n_limit:\n",
    "        #if constraining by top n, only retain the top n ratings within each user\n",
    "        ind=np.argpartition(hat_ratings,-top_n_limit)[:,-top_n_limit:]\n",
    "        n_ratings = np.take(hat_ratings, ind)\n",
    "    else:\n",
    "        #if not constraining by top n, retail all item indices for all users. \n",
    "        #If this is the case, in all_user_recs, recs_idxs should match original_recs_idxs\n",
    "        ind=np.tile(np.arange(0,len(item_features)),(len(user_features),1))\n",
    "        n_ratings = hat_ratings\n",
    "\n",
    "\n",
    "\n",
    "    all_user_recs = dict()\n",
    "    \n",
    "    max_idx = np.argmax(n_ratings, axis=1)\n",
    "    top_items=item_features[max_idx]\n",
    "    \n",
    "    all_recs = np.empty([user_features.shape[0],item_features.shape[1], n_recs])\n",
    "    #all_recs = None\n",
    "    \n",
    "\n",
    "    for idx, user in enumerate(user_features):\n",
    "\n",
    "        user_item_feats = item_features[ind[idx]]\n",
    "        user_max_idx = np.argmax(n_ratings[idx])\n",
    "\n",
    "        #get the top rec and add that as the first item for each user\n",
    "        user_max = max_idx[idx]\n",
    "        recs_features = top_items[idx]\n",
    "        recs_idxs = [max_idx[idx]]\n",
    "        recs_preds = [n_ratings[idx][user_max]]\n",
    "        orig_recs_idxs = [ind[idx, user_max]]\n",
    "\n",
    "\n",
    "\n",
    "        for rec in range(1,n_recs):\n",
    "            if rec == 1:\n",
    "                #for the second item, just use the first item values\n",
    "                centroid = recs_features\n",
    "            else:\n",
    "                centroid = np.nanmean(recs_features, axis=0)\n",
    "\n",
    "            centroid = centroid.reshape(1, -1)\n",
    "\n",
    "            #set all the previously chosen item features to the centroid, so they will not be selected again\n",
    "            #don't want to just remove rows because it will throw of the indexing\n",
    "            user_item_feats[recs_idxs]=centroid\n",
    "\n",
    "            d = pairwise_distances(X=centroid, Y=user_item_feats, metric='cityblock',force_all_finite='allow_nan' )\n",
    "            most_distant = np.argmax(d)\n",
    "\n",
    "            recs_idxs.append(most_distant)\n",
    "            #get the item index from the original array of indices, not the constrained array\n",
    "            orig_recs_idxs.append(ind[idx, most_distant])\n",
    "            recs_preds.append(n_ratings[idx][most_distant])\n",
    "\n",
    "            recs_features = np.vstack((recs_features, user_item_feats[most_distant]))\n",
    "\n",
    "        all_recs[idx, :, :]=recs_features\n",
    "            \n",
    "        all_user_recs[idx]={'user_feats': user,\n",
    "                        'original_recs_idx':orig_recs_idxs,\n",
    "                        'recs_idx':recs_idxs,\n",
    "                        'recs_features':recs_features,\n",
    "                        'recs_preds':recs_preds}\n",
    "\n",
    "        \n",
    "    return all_recs, all_user_recs"
   ]
  },
  {
   "cell_type": "code",
   "execution_count": null,
   "metadata": {},
   "outputs": [],
   "source": [
    "n_ratings.shape"
   ]
  },
  {
   "cell_type": "code",
   "execution_count": null,
   "metadata": {},
   "outputs": [],
   "source": [
    "import datetime\n",
    "\n",
    "x = datetime.datetime.now()\n",
    "print(x) "
   ]
  },
  {
   "cell_type": "code",
   "execution_count": null,
   "metadata": {},
   "outputs": [],
   "source": []
  }
 ],
 "metadata": {
  "kernelspec": {
   "display_name": "trecsEnv",
   "language": "python",
   "name": "trecsenv"
  },
  "language_info": {
   "codemirror_mode": {
    "name": "ipython",
    "version": 3
   },
   "file_extension": ".py",
   "mimetype": "text/x-python",
   "name": "python",
   "nbconvert_exporter": "python",
   "pygments_lexer": "ipython3",
   "version": "3.7.9"
  }
 },
 "nbformat": 4,
 "nbformat_minor": 4
}
