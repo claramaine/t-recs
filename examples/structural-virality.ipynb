{
 "cells": [
  {
   "cell_type": "markdown",
   "metadata": {},
   "source": [
    "# Simulating Structural Virality\n",
    "This notebook is a demonstration of how to simulate studies about information diffusion, such as [The Structural Virality in Online Diffusion](https://5harad.com/papers/twiral.pdf) by Goel et al. with the `trecs` library.\n",
    "\n",
    "To model this problem, I implemented what I believe to be a generic [Bass Model](https://en.wikipedia.org/wiki/Bass_diffusion_model), which is normally used to study the diffusion of product adoption. Goel et al. use the Bass model to study the diffusion of \"viral\" tweets."
   ]
  },
  {
   "cell_type": "markdown",
   "metadata": {},
   "source": [
    "## Initialization\n",
    "The model can be initialized with no parameters, in which case the number of users is chosen randomly."
   ]
  },
  {
   "cell_type": "code",
   "execution_count": 1,
   "metadata": {},
   "outputs": [],
   "source": [
    "import trecs\n",
    "import numpy as np\n",
    "\n",
    "# The Bass model can be initialized with no parameters\n",
    "bass = trecs.models.BassModel()"
   ]
  },
  {
   "cell_type": "markdown",
   "metadata": {},
   "source": [
    "Alternatively, the model can be initialized by specifying some parameters, for example the number of agents (_users_). The number of tweets (_items_) can also be specified.\n",
    "\n",
    "**Note:** the model has only been tested to study the diffusion of one item at a time, so changing the number of items might either yield wrong results or not work at all."
   ]
  },
  {
   "cell_type": "code",
   "execution_count": 13,
   "metadata": {},
   "outputs": [
    {
     "name": "stdout",
     "output_type": "stream",
     "text": [
      "Num items: 1\n",
      "Num users: 10\n"
     ]
    }
   ],
   "source": [
    "bass = trecs.models.BassModel(num_users=10, num_items=1)\n",
    "print(f\"Num items: {bass.num_items}\")\n",
    "print(f\"Num users: {bass.num_users}\")"
   ]
  },
  {
   "cell_type": "markdown",
   "metadata": {},
   "source": [
    "For more control on the simulation, we can specify our own representations for items and users. In the general case, this has constraints that depend on the model.\n",
    "\n",
    "Here are the requirements of this Bass model:\n",
    "- Users must be represented with a `num_users x num_users` binary social graph that defines their connections (u and v are _connected_ if `user_representation[u,v]` is 1).\n",
    "- Items must be represented with a `1 x num_items` array that defines the probability that each item has to infect other users.\n",
    "- At the moment, the model only supports `num_items = 1`"
   ]
  },
  {
   "cell_type": "code",
   "execution_count": 35,
   "metadata": {},
   "outputs": [
    {
     "name": "stdout",
     "output_type": "stream",
     "text": [
      "Item attributes \n",
      " [[0.34993738]]\n",
      "User profiles\n",
      " [[1. 0. 0. 1. 1.]\n",
      " [0. 1. 0. 0. 1.]\n",
      " [0. 0. 1. 0. 0.]\n",
      " [1. 0. 0. 1. 0.]\n",
      " [1. 1. 0. 0. 1.]]\n"
     ]
    }
   ],
   "source": [
    "# user_representation must be a social graph\n",
    "num_users, num_items = 5, 1\n",
    "# Notice that I am only connecting users with themselves (see below for inter-user connections)\n",
    "user_representation = np.diag(np.diag(np.ones((num_users, num_users))))\n",
    "\n",
    "# item_representation is an array of probabilities of infection:\n",
    "# Similarly, this will become a Probability class that can take any distribution. For now:\n",
    "item_representation = trecs.random.Generator().uniform(size=(1, num_items))\n",
    "\n",
    "# And now we initialize the new model\n",
    "bass = trecs.models.BassModel(item_representation=item_representation,\n",
    "                              user_representation=user_representation)\n",
    "# As a SocialGraph class has not yet been defined, I need to\n",
    "# rely on the model's mechanism to connect users:\n",
    "bass.add_friends(0,4)\n",
    "bass.add_friends(0,3)\n",
    "bass.add_friends(1,4)\n",
    "print(\"Item attributes \\n\", bass.predicted_item_attributes)\n",
    "print(\"User profiles\\n\", bass.predicted_user_profiles)"
   ]
  },
  {
   "cell_type": "markdown",
   "metadata": {},
   "source": [
    "In this model, we can also define the initial user who tweeted the tweet. The data structure that represents who tweeted what is called the \"infection state.\" Here we define the _initial_ infection state.\n",
    "\n",
    "`infection_state` is a `num_users x num_items` binary array that indicates which users have been infected: if u has been infected by item i, then `infection_state[u,i]` is 1."
   ]
  },
  {
   "cell_type": "code",
   "execution_count": 36,
   "metadata": {},
   "outputs": [
    {
     "name": "stdout",
     "output_type": "stream",
     "text": [
      "Initial infection state\n",
      " [[0.]\n",
      " [0.]\n",
      " [1.]\n",
      " [0.]\n",
      " [0.]]\n"
     ]
    }
   ],
   "source": [
    "# (this will also be simplified, but I'm not sure how yet)\n",
    "infection_state = np.zeros((num_users, num_items))\n",
    "infection_state[4, np.random.randint(num_items)] = 1\n",
    "print(\"Initial infection state\\n\", bass.infection_state.value)"
   ]
  },
  {
   "cell_type": "markdown",
   "metadata": {},
   "source": [
    "Another parameter that we can add is the _infection threshold_, which can be thought of as the probability of a tweet to be retweeted. The infection threshold represents the minimum probability that the user will become infected with items. In other words, if `infection_probability > infection_threshold` for item i and user u, then item i can infect user u.\n",
    "\n",
    "Currently, the infection threshold is a `num_users x 1` array (one threshold per user), but a more flexible representation could be `num_users x num_items` (one threshold per user per item)."
   ]
  },
  {
   "cell_type": "code",
   "execution_count": 37,
   "metadata": {},
   "outputs": [
    {
     "name": "stdout",
     "output_type": "stream",
     "text": [
      "The infection thresholds are [[0.2523117 0.2523117 0.2523117 0.2523117 0.2523117]]\n"
     ]
    }
   ],
   "source": [
    "# For the purpose of this tutorial, we ensure that the infection\n",
    "# thresholds are lower than the item infection probabilities:\n",
    "infection_thresholds = np.array([np.random.random() % (float(item_representation) - .0000000002)]*user_representation.shape[0]).reshape(1, -1)\n",
    "print(\"The infection thresholds are\", str(infection_thresholds))\n",
    "# Note that the model does not currently support modifying the parameters after initialization.\n",
    "# So we need to initialize a new model altogether.\n",
    "bass = trecs.models.BassModel(item_representation=item_representation,\n",
    "                  user_representation=user_representation,\n",
    "                  infection_state=np.copy(infection_state), # made a copy to keep infection_state unchanged \n",
    "                  infection_thresholds=infection_thresholds)"
   ]
  },
  {
   "cell_type": "markdown",
   "metadata": {},
   "source": [
    "## Running the model"
   ]
  },
  {
   "cell_type": "markdown",
   "metadata": {},
   "source": [
    "In the simulation, at each timestep _t_, users look for tweets to retweet from their Twitter feed. If an appealing tweet appears, then they retweet it.\n",
    "\n",
    "More formally, for each item, item i infects user u if:\n",
    "- at _t-1_, `user_profiles[u,v] = 1` and\n",
    "- at _t-1_, `infection_state[v, i] = 1` and\n",
    "- `infection_state[i] > infection_threshold[u, i]`"
   ]
  },
  {
   "cell_type": "code",
   "execution_count": 38,
   "metadata": {},
   "outputs": [
    {
     "name": "stderr",
     "output_type": "stream",
     "text": [
      "100%|██████████| 10/10 [00:00<00:00, 3791.63it/s]\n"
     ]
    }
   ],
   "source": [
    "# This can be run without parameters, too, in which case timesteps=100 by default\n",
    "timesteps = 10\n",
    "bass.run(timesteps=timesteps)"
   ]
  },
  {
   "cell_type": "markdown",
   "metadata": {},
   "source": [
    "# Evaluation\n",
    "First of all, we take a look at the infection state. We saved the initial infection state, so we can compare them to see if there is any change.\n",
    "\n",
    "If there is no change, it could be for a few reasons:\n",
    "1. The infection threshold is higher than the infection probabilities.\n",
    "2. The social graph is too sparse and the infected users are isolated.\n",
    "3. The simulation is too short. This is relevant because, with more infected users in the networks, \"healthy\" users have a higher chance of being infected."
   ]
  },
  {
   "cell_type": "code",
   "execution_count": 39,
   "metadata": {},
   "outputs": [
    {
     "name": "stdout",
     "output_type": "stream",
     "text": [
      "Has the infection state changed? yes!\n"
     ]
    }
   ],
   "source": [
    "has_changed = not np.array_equal(bass.infection_state, infection_state)\n",
    "response = \"yes!\" if has_changed else \"nope.\"\n",
    "print(\"Has the infection state changed?\", response)"
   ]
  },
  {
   "cell_type": "markdown",
   "metadata": {},
   "source": [
    "## Infection diffusion tree\n",
    "We print the diffusion tree."
   ]
  },
  {
   "cell_type": "code",
   "execution_count": 40,
   "metadata": {},
   "outputs": [
    {
     "data": {
      "image/png": "[encoded data removed]",
      "text/plain": [
       "<Figure size 432x288 with 1 Axes>"
      ]
     },
     "metadata": {},
     "output_type": "display_data"
    }
   ],
   "source": [
    "# Feel free to rerun the simulation to see more interesting trees, where >1 user was infected\n",
    "import matplotlib.pyplot as plt\n",
    "bass.draw_diffusion_tree()"
   ]
  },
  {
   "cell_type": "markdown",
   "metadata": {},
   "source": [
    "## Structural virality\n",
    "Finally, we calculate the structural virality of the diffusion tree. Goel et al. define structural virality as:\n",
    "\n",
    "> the average distance between all pairs of nodes in a diffusion tree.\n",
    "\n",
    "This is equal to the average of what is known in the literature as the Wiener index."
   ]
  },
  {
   "cell_type": "code",
   "execution_count": 41,
   "metadata": {},
   "outputs": [
    {
     "data": {
      "text/plain": [
       "0.6666666666666666"
      ]
     },
     "execution_count": 41,
     "metadata": {},
     "output_type": "execute_result"
    }
   ],
   "source": [
    "# this basically calls networkx.algorithms.wiener.wiener_index() on the graph\n",
    "# and calculates the average on the number of nodes\n",
    "bass.get_structural_virality()"
   ]
  },
  {
   "cell_type": "markdown",
   "metadata": {},
   "source": [
    "## Some more information\n",
    "By calling the `get_measurements()` method, the data structure returns a dictionary of metrics that are relevant to the model.\n",
    "\n",
    "By default, the Bass model returns the number of total infected users at each timestep."
   ]
  },
  {
   "cell_type": "code",
   "execution_count": 42,
   "metadata": {},
   "outputs": [
    {
     "data": {
      "text/html": [
       "<div>\n",
       "<style scoped>\n",
       "    .dataframe tbody tr th:only-of-type {\n",
       "        vertical-align: middle;\n",
       "    }\n",
       "\n",
       "    .dataframe tbody tr th {\n",
       "        vertical-align: top;\n",
       "    }\n",
       "\n",
       "    .dataframe thead th {\n",
       "        text-align: right;\n",
       "    }\n",
       "</style>\n",
       "<table border=\"1\" class=\"dataframe\">\n",
       "  <thead>\n",
       "    <tr style=\"text-align: right;\">\n",
       "      <th></th>\n",
       "      <th>num_infected</th>\n",
       "    </tr>\n",
       "    <tr>\n",
       "      <th>timesteps</th>\n",
       "      <th></th>\n",
       "    </tr>\n",
       "  </thead>\n",
       "  <tbody>\n",
       "    <tr>\n",
       "      <th>0</th>\n",
       "      <td>1</td>\n",
       "    </tr>\n",
       "    <tr>\n",
       "      <th>1</th>\n",
       "      <td>2</td>\n",
       "    </tr>\n",
       "    <tr>\n",
       "      <th>2</th>\n",
       "      <td>3</td>\n",
       "    </tr>\n",
       "    <tr>\n",
       "      <th>3</th>\n",
       "      <td>3</td>\n",
       "    </tr>\n",
       "    <tr>\n",
       "      <th>4</th>\n",
       "      <td>3</td>\n",
       "    </tr>\n",
       "    <tr>\n",
       "      <th>5</th>\n",
       "      <td>3</td>\n",
       "    </tr>\n",
       "    <tr>\n",
       "      <th>6</th>\n",
       "      <td>3</td>\n",
       "    </tr>\n",
       "    <tr>\n",
       "      <th>7</th>\n",
       "      <td>3</td>\n",
       "    </tr>\n",
       "    <tr>\n",
       "      <th>8</th>\n",
       "      <td>3</td>\n",
       "    </tr>\n",
       "    <tr>\n",
       "      <th>9</th>\n",
       "      <td>3</td>\n",
       "    </tr>\n",
       "    <tr>\n",
       "      <th>10</th>\n",
       "      <td>3</td>\n",
       "    </tr>\n",
       "  </tbody>\n",
       "</table>\n",
       "</div>"
      ],
      "text/plain": [
       "           num_infected\n",
       "timesteps              \n",
       "0                     1\n",
       "1                     2\n",
       "2                     3\n",
       "3                     3\n",
       "4                     3\n",
       "5                     3\n",
       "6                     3\n",
       "7                     3\n",
       "8                     3\n",
       "9                     3\n",
       "10                    3"
      ]
     },
     "execution_count": 42,
     "metadata": {},
     "output_type": "execute_result"
    }
   ],
   "source": [
    "# in the future, there will be an easy way to add a new measurement\n",
    "# measurements and models are already decoupled, so it shouldn't be too complicated\n",
    "measurements = bass.get_measurements()\n",
    "# We can easily turn this into a pandas DataFrame\n",
    "import pandas as pd\n",
    "df = pd.DataFrame(measurements)\n",
    "df.set_index('timesteps')"
   ]
  },
  {
   "cell_type": "markdown",
   "metadata": {},
   "source": [
    "Models can also return a history of all system states."
   ]
  },
  {
   "cell_type": "code",
   "execution_count": 43,
   "metadata": {},
   "outputs": [
    {
     "data": {
      "text/plain": [
       "dict_keys(['infection_state', 'timesteps'])"
      ]
     },
     "execution_count": 43,
     "metadata": {},
     "output_type": "execute_result"
    }
   ],
   "source": [
    "system_state = bass.get_system_state()\n",
    "system_state.keys()"
   ]
  },
  {
   "cell_type": "markdown",
   "metadata": {},
   "source": [
    "For example, we can view the history of all the states that infection_state had at any stage of the simuation:"
   ]
  },
  {
   "cell_type": "code",
   "execution_count": 44,
   "metadata": {},
   "outputs": [
    {
     "name": "stdout",
     "output_type": "stream",
     "text": [
      "After the first iteration, the infection state was:\n"
     ]
    },
    {
     "data": {
      "text/plain": [
       "array([[ 1.],\n",
       "       [ 0.],\n",
       "       [ 0.],\n",
       "       [ 0.],\n",
       "       [-1.]])"
      ]
     },
     "execution_count": 44,
     "metadata": {},
     "output_type": "execute_result"
    }
   ],
   "source": [
    "# For example, let's print the infection state at timestep 1 (i.e., after the first iteration)\n",
    "print(\"After the first iteration, the infection state was:\")\n",
    "system_state['infection_state'][1]"
   ]
  }
 ],
 "metadata": {
  "kernelspec": {
   "display_name": "Python 3",
   "language": "python",
   "name": "python3"
  },
  "language_info": {
   "codemirror_mode": {
    "name": "ipython",
    "version": 3
   },
   "file_extension": ".py",
   "mimetype": "text/x-python",
   "name": "python",
   "nbconvert_exporter": "python",
   "pygments_lexer": "ipython3",
   "version": "3.7.9"
  }
 },
 "nbformat": 4,
 "nbformat_minor": 4
}
