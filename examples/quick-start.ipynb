{
 "cells": [
  {
   "cell_type": "markdown",
   "metadata": {},
   "source": [
    "# Quick Start\n",
    "In this notebook, we show you how to get started with the simulator.\n",
    "\n",
    "To install the simulator, please follow the [install instructions](https://elucherini.github.io/t-recs/readme.html#installation) in the docs.\n",
    "\n",
    "## Import the library"
   ]
  },
  {
   "cell_type": "code",
   "execution_count": 1,
   "metadata": {},
   "outputs": [],
   "source": [
    "import matplotlib.pyplot as plt\n",
    "import numpy as np\n",
    "import pandas as pd\n",
    "\n",
    "import trecs\n",
    "from trecs.models import SocialFiltering\n",
    "from trecs.metrics import InteractionMeasurement, MSEMeasurement"
   ]
  },
  {
   "cell_type": "markdown",
   "metadata": {},
   "source": [
    "## Instantiate a model\n",
    "For example, here we use the social filtering recommender system, which recommends items based on users' social network."
   ]
  },
  {
   "cell_type": "code",
   "execution_count": 2,
   "metadata": {},
   "outputs": [],
   "source": [
    "sf = SocialFiltering()"
   ]
  },
  {
   "cell_type": "markdown",
   "metadata": {},
   "source": [
    "## Add a metric to measure during the simulation\n",
    "In this example, we collect information about the number of users who interacted with each item."
   ]
  },
  {
   "cell_type": "code",
   "execution_count": 3,
   "metadata": {},
   "outputs": [],
   "source": [
    "sf.add_metrics(InteractionMeasurement(), MSEMeasurement())"
   ]
  },
  {
   "cell_type": "markdown",
   "metadata": {},
   "source": [
    "## Run the model for a number of time steps\n",
    "For example, here we run it for 5 time steps to keep the output small."
   ]
  },
  {
   "cell_type": "code",
   "execution_count": 4,
   "metadata": {},
   "outputs": [
    {
     "name": "stderr",
     "output_type": "stream",
     "text": [
      "100%|██████████| 5/5 [00:00<00:00,  8.36it/s]\n"
     ]
    }
   ],
   "source": [
    "sf.run(timesteps=5)"
   ]
  },
  {
   "cell_type": "markdown",
   "metadata": {},
   "source": [
    "## Collect the results\n",
    "The following returns a dictionary of measurements taken **before the beginning of the simulation** and **at each time step of the simulation**. We obtain measurements for the metrics we've added (InteractionMeasurement) and all the other default metrics in the model (in this case, the MSE between the predicted user preferences and the real user preferences)."
   ]
  },
  {
   "cell_type": "code",
   "execution_count": 5,
   "metadata": {},
   "outputs": [
    {
     "data": {
      "text/plain": [
       "dict_keys(['interaction_histogram', 'mse', 'timesteps'])"
      ]
     },
     "execution_count": 5,
     "metadata": {},
     "output_type": "execute_result"
    }
   ],
   "source": [
    "results = sf.get_measurements()\n",
    "results.keys()"
   ]
  },
  {
   "cell_type": "markdown",
   "metadata": {},
   "source": [
    "## Plot or view data\n",
    "The interaction histograms are lists of interactions aggregated by item (i.e., the `i`-th element of histogram `histogram[t]` is the number of interactions received by item `i` at timestep `t`)."
   ]
  },
  {
   "cell_type": "code",
   "execution_count": 6,
   "metadata": {},
   "outputs": [
    {
     "data": {
      "image/png": "[encoded data removed]",
      "text/plain": [
       "<Figure size 432x288 with 1 Axes>"
      ]
     },
     "metadata": {
      "needs_background": "light"
     },
     "output_type": "display_data"
    }
   ],
   "source": [
    "timestep = 1\n",
    "plt.plot(np.arange(sf.num_items), sorted(results['interaction_histogram'][timestep]))\n",
    "plt.title(\"Interaction histogram at timestep %d (sorted by ascending # interactions)\" % timestep)\n",
    "plt.xlabel(\"Items\")\n",
    "plt.ylabel(\"# interactions\")\n",
    "plt.show()"
   ]
  },
  {
   "cell_type": "code",
   "execution_count": 7,
   "metadata": {},
   "outputs": [
    {
     "data": {
      "text/html": [
       "<div>\n",
       "<style scoped>\n",
       "    .dataframe tbody tr th:only-of-type {\n",
       "        vertical-align: middle;\n",
       "    }\n",
       "\n",
       "    .dataframe tbody tr th {\n",
       "        vertical-align: top;\n",
       "    }\n",
       "\n",
       "    .dataframe thead th {\n",
       "        text-align: right;\n",
       "    }\n",
       "</style>\n",
       "<table border=\"1\" class=\"dataframe\">\n",
       "  <thead>\n",
       "    <tr style=\"text-align: right;\">\n",
       "      <th></th>\n",
       "      <th>mse</th>\n",
       "      <th>timesteps</th>\n",
       "    </tr>\n",
       "  </thead>\n",
       "  <tbody>\n",
       "    <tr>\n",
       "      <th>0</th>\n",
       "      <td>0.000000</td>\n",
       "      <td>0</td>\n",
       "    </tr>\n",
       "    <tr>\n",
       "      <th>1</th>\n",
       "      <td>0.000811</td>\n",
       "      <td>1</td>\n",
       "    </tr>\n",
       "    <tr>\n",
       "      <th>2</th>\n",
       "      <td>0.002954</td>\n",
       "      <td>2</td>\n",
       "    </tr>\n",
       "    <tr>\n",
       "      <th>3</th>\n",
       "      <td>0.019603</td>\n",
       "      <td>3</td>\n",
       "    </tr>\n",
       "    <tr>\n",
       "      <th>4</th>\n",
       "      <td>0.071145</td>\n",
       "      <td>4</td>\n",
       "    </tr>\n",
       "    <tr>\n",
       "      <th>5</th>\n",
       "      <td>0.170569</td>\n",
       "      <td>5</td>\n",
       "    </tr>\n",
       "  </tbody>\n",
       "</table>\n",
       "</div>"
      ],
      "text/plain": [
       "        mse  timesteps\n",
       "0  0.000000          0\n",
       "1  0.000811          1\n",
       "2  0.002954          2\n",
       "3  0.019603          3\n",
       "4  0.071145          4\n",
       "5  0.170569          5"
      ]
     },
     "execution_count": 7,
     "metadata": {},
     "output_type": "execute_result"
    }
   ],
   "source": [
    "pd.DataFrame({'mse': results['mse'], 'timesteps': results['timesteps']})"
   ]
  },
  {
   "cell_type": "markdown",
   "metadata": {},
   "source": [
    "(**Note:** The first element in a measurement is often `None` because its value is undefined before running the simulation. For example, MSE makes no sense before the model has made predictions on user preferences.)"
   ]
  },
  {
   "cell_type": "markdown",
   "metadata": {},
   "source": [
    "## More info\n",
    "Have a look at the following Notebooks:\n",
    "1. [Structural Virality](structural-virality.ipynb)\n",
    "2. [Complete guide](complete-guide.ipynb)\n",
    "3. [Advanced guide: metrics](advanced-metrics.ipynb)\n",
    "4. [Advanced guide: models](advanced-models.ipynb)\n",
    "\n",
    "Please read the [documentation](https://elucherini.github.io/algo-segregation/index.html) for more details."
   ]
  }
 ],
 "metadata": {
  "kernelspec": {
   "display_name": "Python 3",
   "language": "python",
   "name": "python3"
  },
  "language_info": {
   "codemirror_mode": {
    "name": "ipython",
    "version": 3
   },
   "file_extension": ".py",
   "mimetype": "text/x-python",
   "name": "python",
   "nbconvert_exporter": "python",
   "pygments_lexer": "ipython3",
   "version": "3.7.9"
  }
 },
 "nbformat": 4,
 "nbformat_minor": 4
}
