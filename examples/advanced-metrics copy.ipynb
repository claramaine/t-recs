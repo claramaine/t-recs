{
 "cells": [
  {
   "cell_type": "markdown",
   "metadata": {},
   "source": [
    "# Create your own metrics\n",
    "This Notebook illustrates how to create your own metrics. At the end of this guide, you'll be able to add new metrics to existing models. For a guide on how to create a new model, please see `advanced-models.ipynb`. In what follows, we assume you are familiar with the main concepts of the framework shown in `complete-guide.ipynb`.\n",
    "\n",
    "Custom metrics allow you to measure any quantity of interest at every timestep of the simulation. For example, at a high level, you might want to track how the diversity of recommendations, user utility, or item popularity evolve over the duration of the simulation. Metrics allow you to do all of this."
   ]
  },
  {
   "cell_type": "markdown",
   "metadata": {},
   "source": [
    "## Concrete example\n",
    "\n",
    "The `measure()` method is called before the simulation begins and at the end of each timestep. If the metric has no meaning before the simulation starts, you can simply return `None` from the `measure` method. The argument to the `measure()` method is always the `recommender` model (an instance of `trecs.models.BaseRecmomender`).\n",
    "\n",
    "At the end of the `measure()` method, you should call the `self.observe(value_of_metric)` to actually record the value of the metric."
   ]
  },
  {
   "cell_type": "code",
   "execution_count": 1,
   "metadata": {},
   "outputs": [],
   "source": [
    "from trecs.metrics import Measurement\n",
    "import numpy as np\n",
    "\n",
    "class PredictedIdealSimilarity(Measurement):\n",
    "    def __init__(self, name=\"predicted_ideal_similarity\", verbose=False):\n",
    "        Measurement.__init__(self, name, verbose)\n",
    "\n",
    "    def measure(self, recommender, users):\n",
    "        \"\"\"\n",
    "        The purpose of this metric is to calculate the average cosine similarity\n",
    "        between the predictd peferencs for a user and their ideal preferences.\n",
    "\n",
    "        Sim(U^, U_ideal) \n",
    "\n",
    "        Parameters\n",
    "        ------------\n",
    "            recommender: :class:`~models.recommender.BaseRecommender`\n",
    "                Model that inherits from\n",
    "                :class:`~models.recommender.BaseRecommender`.\n",
    "        \"\"\"\n",
    "        similarity = 0\n",
    "        interactions = recommender.interactions\n",
    "        if interactions.size == 0:\n",
    "            self.observe(None) # no interactions yet\n",
    "            return\n",
    "\n",
    "        # user profiles in shape |U| x num_attributes\n",
    "        predicted_user = recommender.predicted_user_profiles #sure this isn't users_hat ?\n",
    "        predicted_norm = np.linalg.norm(predicted_user, axis=1)\n",
    "\n",
    "        # ideal user profiles in shape |U| x num_attributes\n",
    "        ideal_user = users.get_ideal_user_scores #want an array for all the ideals of all users \n",
    "        ideal_norm = np.linalg.norm(ideal_user, axis=1)\n",
    "\n",
    "        # calculate mean cosine similarity between each user and their item\n",
    "        sim_vals = (predicted_user * ideal_user).sum(axis=1) / (predicted_norm * ideal_norm)\n",
    "        \n",
    "        # to complete the measurement, call `self.observe(metric_value)`\n",
    "        self.observe(sim_vals.mean())\n",
    "        "
   ]
  },
  {
   "cell_type": "markdown",
   "metadata": {},
   "source": [
    "## Incorporating your metric into a simulation\n",
    "\n",
    "To add your metric into a simulation, you can pass an instance of your `Measurement` object into the `metrics` argument when initializing a new simulation."
   ]
  },
  {
   "cell_type": "code",
   "execution_count": 3,
   "metadata": {},
   "outputs": [
    {
     "ename": "TypeError",
     "evalue": "measure() missing 1 required positional argument: 'users'",
     "output_type": "error",
     "traceback": [
      "\u001b[1;31m---------------------------------------------------------------------------\u001b[0m",
      "\u001b[1;31mTypeError\u001b[0m                                 Traceback (most recent call last)",
      "\u001b[1;32mc:\\Users\\0pink\\OneDrive\\Documents\\3c Radboud 2022\\Thesis\\T-RECS Modified\\t-recs\\examples\\advanced-metrics copy.ipynb Cell 5'\u001b[0m in \u001b[0;36m<cell line: 4>\u001b[1;34m()\u001b[0m\n\u001b[0;32m      <a href='vscode-notebook-cell:/c%3A/Users/0pink/OneDrive/Documents/3c%20Radboud%202022/Thesis/T-RECS%20Modified/t-recs/examples/advanced-metrics%20copy.ipynb#ch0000004?line=0'>1</a>\u001b[0m \u001b[39mfrom\u001b[39;00m \u001b[39mtrecs\u001b[39;00m\u001b[39m.\u001b[39;00m\u001b[39mmodels\u001b[39;00m \u001b[39mimport\u001b[39;00m ContentFiltering\n\u001b[0;32m      <a href='vscode-notebook-cell:/c%3A/Users/0pink/OneDrive/Documents/3c%20Radboud%202022/Thesis/T-RECS%20Modified/t-recs/examples/advanced-metrics%20copy.ipynb#ch0000004?line=1'>2</a>\u001b[0m \u001b[39mimport\u001b[39;00m \u001b[39mpandas\u001b[39;00m \u001b[39mas\u001b[39;00m \u001b[39mpd\u001b[39;00m\n\u001b[1;32m----> <a href='vscode-notebook-cell:/c%3A/Users/0pink/OneDrive/Documents/3c%20Radboud%202022/Thesis/T-RECS%20Modified/t-recs/examples/advanced-metrics%20copy.ipynb#ch0000004?line=3'>4</a>\u001b[0m content_sim \u001b[39m=\u001b[39m ContentFiltering(num_users\u001b[39m=\u001b[39;49m\u001b[39m100\u001b[39;49m, num_items\u001b[39m=\u001b[39;49m\u001b[39m500\u001b[39;49m, measurements\u001b[39m=\u001b[39;49m[PredictedIdealSimilarity()])\n\u001b[0;32m      <a href='vscode-notebook-cell:/c%3A/Users/0pink/OneDrive/Documents/3c%20Radboud%202022/Thesis/T-RECS%20Modified/t-recs/examples/advanced-metrics%20copy.ipynb#ch0000004?line=4'>5</a>\u001b[0m content_sim\u001b[39m.\u001b[39mrun(timesteps\u001b[39m=\u001b[39m\u001b[39m10\u001b[39m)\n",
      "File \u001b[1;32m~\\anaconda3\\lib\\site-packages\\trecs\\models\\content.py:168\u001b[0m, in \u001b[0;36mContentFiltering.__init__\u001b[1;34m(self, num_users, num_items, num_attributes, user_representation, item_representation, actual_user_representation, actual_item_representation, probabilistic_recommendations, seed, num_items_per_iter, **kwargs)\u001b[0m\n\u001b[0;32m    <a href='file:///c%3A/Users/0pink/anaconda3/lib/site-packages/trecs/models/content.py?line=164'>165</a>\u001b[0m \u001b[39mself\u001b[39m\u001b[39m.\u001b[39mall_interactions \u001b[39m=\u001b[39m \u001b[39mNone\u001b[39;00m\n\u001b[0;32m    <a href='file:///c%3A/Users/0pink/anaconda3/lib/site-packages/trecs/models/content.py?line=166'>167</a>\u001b[0m \u001b[39m# Initialize recommender system\u001b[39;00m\n\u001b[1;32m--> <a href='file:///c%3A/Users/0pink/anaconda3/lib/site-packages/trecs/models/content.py?line=167'>168</a>\u001b[0m BaseRecommender\u001b[39m.\u001b[39;49m\u001b[39m__init__\u001b[39;49m(\n\u001b[0;32m    <a href='file:///c%3A/Users/0pink/anaconda3/lib/site-packages/trecs/models/content.py?line=168'>169</a>\u001b[0m     \u001b[39mself\u001b[39;49m,\n\u001b[0;32m    <a href='file:///c%3A/Users/0pink/anaconda3/lib/site-packages/trecs/models/content.py?line=169'>170</a>\u001b[0m     user_representation,\n\u001b[0;32m    <a href='file:///c%3A/Users/0pink/anaconda3/lib/site-packages/trecs/models/content.py?line=170'>171</a>\u001b[0m     item_representation,\n\u001b[0;32m    <a href='file:///c%3A/Users/0pink/anaconda3/lib/site-packages/trecs/models/content.py?line=171'>172</a>\u001b[0m     actual_user_representation,\n\u001b[0;32m    <a href='file:///c%3A/Users/0pink/anaconda3/lib/site-packages/trecs/models/content.py?line=172'>173</a>\u001b[0m     actual_item_representation,\n\u001b[0;32m    <a href='file:///c%3A/Users/0pink/anaconda3/lib/site-packages/trecs/models/content.py?line=173'>174</a>\u001b[0m     num_users,\n\u001b[0;32m    <a href='file:///c%3A/Users/0pink/anaconda3/lib/site-packages/trecs/models/content.py?line=174'>175</a>\u001b[0m     num_items,\n\u001b[0;32m    <a href='file:///c%3A/Users/0pink/anaconda3/lib/site-packages/trecs/models/content.py?line=175'>176</a>\u001b[0m     num_items_per_iter,\n\u001b[0;32m    <a href='file:///c%3A/Users/0pink/anaconda3/lib/site-packages/trecs/models/content.py?line=176'>177</a>\u001b[0m     probabilistic_recommendations\u001b[39m=\u001b[39;49mprobabilistic_recommendations,\n\u001b[0;32m    <a href='file:///c%3A/Users/0pink/anaconda3/lib/site-packages/trecs/models/content.py?line=177'>178</a>\u001b[0m     seed\u001b[39m=\u001b[39;49mseed,\n\u001b[0;32m    <a href='file:///c%3A/Users/0pink/anaconda3/lib/site-packages/trecs/models/content.py?line=178'>179</a>\u001b[0m     \u001b[39m*\u001b[39;49m\u001b[39m*\u001b[39;49mkwargs\n\u001b[0;32m    <a href='file:///c%3A/Users/0pink/anaconda3/lib/site-packages/trecs/models/content.py?line=179'>180</a>\u001b[0m )\n\u001b[0;32m    <a href='file:///c%3A/Users/0pink/anaconda3/lib/site-packages/trecs/models/content.py?line=181'>182</a>\u001b[0m \u001b[39m# set cumulative interactions as a sparse matrix\u001b[39;00m\n\u001b[0;32m    <a href='file:///c%3A/Users/0pink/anaconda3/lib/site-packages/trecs/models/content.py?line=182'>183</a>\u001b[0m \u001b[39mself\u001b[39m\u001b[39m.\u001b[39mall_interactions \u001b[39m=\u001b[39m sp\u001b[39m.\u001b[39mcsr_matrix((\u001b[39mself\u001b[39m\u001b[39m.\u001b[39mnum_users, \u001b[39mself\u001b[39m\u001b[39m.\u001b[39mnum_items), dtype\u001b[39m=\u001b[39m\u001b[39mint\u001b[39m)\n",
      "File \u001b[1;32m~\\anaconda3\\lib\\site-packages\\trecs\\models\\recommender.py:281\u001b[0m, in \u001b[0;36mBaseRecommender.__init__\u001b[1;34m(self, users_hat, items_hat, users, items, num_users, num_items, num_items_per_iter, creators, probabilistic_recommendations, measurements, record_base_state, system_state, score_fn, interleaving_fn, verbose, seed)\u001b[0m\n\u001b[0;32m    <a href='file:///c%3A/Users/0pink/anaconda3/lib/site-packages/trecs/models/recommender.py?line=277'>278</a>\u001b[0m \u001b[39m# initial metrics measurements (done at the end\u001b[39;00m\n\u001b[0;32m    <a href='file:///c%3A/Users/0pink/anaconda3/lib/site-packages/trecs/models/recommender.py?line=278'>279</a>\u001b[0m \u001b[39m# when the rest of the initial state has been initialized)\u001b[39;00m\n\u001b[0;32m    <a href='file:///c%3A/Users/0pink/anaconda3/lib/site-packages/trecs/models/recommender.py?line=279'>280</a>\u001b[0m \u001b[39mif\u001b[39;00m measurements \u001b[39mis\u001b[39;00m \u001b[39mnot\u001b[39;00m \u001b[39mNone\u001b[39;00m:\n\u001b[1;32m--> <a href='file:///c%3A/Users/0pink/anaconda3/lib/site-packages/trecs/models/recommender.py?line=280'>281</a>\u001b[0m     \u001b[39mself\u001b[39;49m\u001b[39m.\u001b[39;49madd_metrics(\u001b[39m*\u001b[39;49mmeasurements)\n\u001b[0;32m    <a href='file:///c%3A/Users/0pink/anaconda3/lib/site-packages/trecs/models/recommender.py?line=282'>283</a>\u001b[0m \u001b[39mif\u001b[39;00m \u001b[39mself\u001b[39m\u001b[39m.\u001b[39mis_verbose():\n\u001b[0;32m    <a href='file:///c%3A/Users/0pink/anaconda3/lib/site-packages/trecs/models/recommender.py?line=283'>284</a>\u001b[0m     \u001b[39mself\u001b[39m\u001b[39m.\u001b[39mlog(\u001b[39m\"\u001b[39m\u001b[39mRecommender system ready\u001b[39m\u001b[39m\"\u001b[39m)\n",
      "File \u001b[1;32m~\\anaconda3\\lib\\site-packages\\trecs\\metrics\\measurement.py:138\u001b[0m, in \u001b[0;36mMeasurementModule.add_metrics\u001b[1;34m(self, *args)\u001b[0m\n\u001b[0;32m    <a href='file:///c%3A/Users/0pink/anaconda3/lib/site-packages/trecs/metrics/measurement.py?line=135'>136</a>\u001b[0m \u001b[39m# after adding a new metric, we always perform an initial measurement\u001b[39;00m\n\u001b[0;32m    <a href='file:///c%3A/Users/0pink/anaconda3/lib/site-packages/trecs/metrics/measurement.py?line=136'>137</a>\u001b[0m \u001b[39mfor\u001b[39;00m metric \u001b[39min\u001b[39;00m args:\n\u001b[1;32m--> <a href='file:///c%3A/Users/0pink/anaconda3/lib/site-packages/trecs/metrics/measurement.py?line=137'>138</a>\u001b[0m     metric\u001b[39m.\u001b[39;49mmeasure(\u001b[39mself\u001b[39;49m)\n",
      "\u001b[1;31mTypeError\u001b[0m: measure() missing 1 required positional argument: 'users'"
     ]
    }
   ],
   "source": [
    "from trecs.models import ContentFiltering\n",
    "import pandas as pd\n",
    "\n",
    "content_sim = ContentFiltering(num_users=100, num_items=500, measurements=[PredictedIdealSimilarity()])\n",
    "content_sim.run(timesteps=10)"
   ]
  },
  {
   "cell_type": "markdown",
   "metadata": {},
   "source": [
    "Now we can visualize the results of the metric by calling `get_measurements()` on our simulation object. This returns a dictionary that maps the name of the metric to a list of its values. (The `__init__` method of the `Measurement` class defines the default name of our metric, which in this case was `sample_metric`). The dictionary also additionally contains a key-value pair for the timesteps of the simulation.\n",
    "\n",
    "(Pro-tip: use `pd.DataFrame` to visualize the metric alongside the timesteps!) Note that timestep 0 corresponds to the initial state before the simulation starts. The value of our metric is `None` for timestep 0, since no users have any interactions yet."
   ]
  },
  {
   "cell_type": "code",
   "execution_count": null,
   "metadata": {},
   "outputs": [
    {
     "data": {
      "text/html": [
       "<div>\n",
       "<style scoped>\n",
       "    .dataframe tbody tr th:only-of-type {\n",
       "        vertical-align: middle;\n",
       "    }\n",
       "\n",
       "    .dataframe tbody tr th {\n",
       "        vertical-align: top;\n",
       "    }\n",
       "\n",
       "    .dataframe thead th {\n",
       "        text-align: right;\n",
       "    }\n",
       "</style>\n",
       "<table border=\"1\" class=\"dataframe\">\n",
       "  <thead>\n",
       "    <tr style=\"text-align: right;\">\n",
       "      <th></th>\n",
       "      <th>sample_metric</th>\n",
       "      <th>timesteps</th>\n",
       "    </tr>\n",
       "  </thead>\n",
       "  <tbody>\n",
       "    <tr>\n",
       "      <th>0</th>\n",
       "      <td>None</td>\n",
       "      <td>0</td>\n",
       "    </tr>\n",
       "    <tr>\n",
       "      <th>1</th>\n",
       "      <td>1.0</td>\n",
       "      <td>1</td>\n",
       "    </tr>\n",
       "    <tr>\n",
       "      <th>2</th>\n",
       "      <td>0.9502829304759283</td>\n",
       "      <td>2</td>\n",
       "    </tr>\n",
       "    <tr>\n",
       "      <th>3</th>\n",
       "      <td>0.970409943270234</td>\n",
       "      <td>3</td>\n",
       "    </tr>\n",
       "    <tr>\n",
       "      <th>4</th>\n",
       "      <td>0.98034821902647</td>\n",
       "      <td>4</td>\n",
       "    </tr>\n",
       "    <tr>\n",
       "      <th>5</th>\n",
       "      <td>0.9830184700808392</td>\n",
       "      <td>5</td>\n",
       "    </tr>\n",
       "    <tr>\n",
       "      <th>6</th>\n",
       "      <td>0.9877600677330426</td>\n",
       "      <td>6</td>\n",
       "    </tr>\n",
       "    <tr>\n",
       "      <th>7</th>\n",
       "      <td>0.991256236372894</td>\n",
       "      <td>7</td>\n",
       "    </tr>\n",
       "    <tr>\n",
       "      <th>8</th>\n",
       "      <td>0.9902698168114767</td>\n",
       "      <td>8</td>\n",
       "    </tr>\n",
       "    <tr>\n",
       "      <th>9</th>\n",
       "      <td>0.9923935198016904</td>\n",
       "      <td>9</td>\n",
       "    </tr>\n",
       "    <tr>\n",
       "      <th>10</th>\n",
       "      <td>0.9939163865840057</td>\n",
       "      <td>10</td>\n",
       "    </tr>\n",
       "  </tbody>\n",
       "</table>\n",
       "</div>"
      ],
      "text/plain": [
       "         sample_metric  timesteps\n",
       "0                 None          0\n",
       "1                  1.0          1\n",
       "2   0.9502829304759283          2\n",
       "3    0.970409943270234          3\n",
       "4     0.98034821902647          4\n",
       "5   0.9830184700808392          5\n",
       "6   0.9877600677330426          6\n",
       "7    0.991256236372894          7\n",
       "8   0.9902698168114767          8\n",
       "9   0.9923935198016904          9\n",
       "10  0.9939163865840057         10"
      ]
     },
     "execution_count": 7,
     "metadata": {},
     "output_type": "execute_result"
    }
   ],
   "source": [
    "results = content_sim.get_measurements()\n",
    "pd.DataFrame({'sample_metric': results['sample_metric'], 'timesteps': results['timesteps']})"
   ]
  }
 ],
 "metadata": {
  "kernelspec": {
   "display_name": "Python 3",
   "language": "python",
   "name": "python3"
  },
  "language_info": {
   "codemirror_mode": {
    "name": "ipython",
    "version": 3
   },
   "file_extension": ".py",
   "mimetype": "text/x-python",
   "name": "python",
   "nbconvert_exporter": "python",
   "pygments_lexer": "ipython3",
   "version": "3.8.8"
  }
 },
 "nbformat": 4,
 "nbformat_minor": 4
}
