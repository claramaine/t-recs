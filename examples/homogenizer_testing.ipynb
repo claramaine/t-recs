{
 "cells": [
  {
   "cell_type": "code",
   "execution_count": 1,
   "metadata": {},
   "outputs": [],
   "source": [
    "import pandas as pd\n",
    "import numpy as np\n",
    "import matplotlib.pyplot as plt\n",
    "\n",
    "import trecs\n",
    "from trecs.models import Homogenizer, ContentFiltering, ImplicitMF\n",
    "from trecs.random import Generator\n",
    "from trecs.metrics import HomogeneityMeasurement, RecSimilarity, InteractionSimilarity, AverageFeatureScoreRange"
   ]
  },
  {
   "cell_type": "code",
   "execution_count": 13,
   "metadata": {},
   "outputs": [],
   "source": [
    "num_users = 10\n",
    "num_items = 100\n",
    "num_attrs = 20\n",
    "startup_iters=10\n",
    "\n",
    "\n",
    "sim_iters = 50\n",
    "# simpler way to pass common arguments\n",
    "init_params = {\n",
    "    \"num_items_per_iter\": 100\n",
    "}\n",
    "\n",
    "run_params = {\n",
    "    \"train_between_steps\": True,\n",
    "    \"random_items_per_iter\": 0,\n",
    "    \"vary_random_items_per_iter\": False,\n",
    "    \"timesteps\": sim_iters,\n",
    "    \"repeated_items\": False\n",
    "}\n",
    "\n",
    "pairs = [np.random.choice(num_users, 2, replace=False) for _ in range(800)]"
   ]
  },
  {
   "cell_type": "code",
   "execution_count": 14,
   "metadata": {},
   "outputs": [
    {
     "name": "stdout",
     "output_type": "stream",
     "text": [
      "initializing Child instance\n"
     ]
    }
   ],
   "source": [
    "#cf=ContentFiltering(**init_params)\n",
    "#hm=Homogenizer(model_class=ImplicitMF)\n",
    "hm=Homogenizer()"
   ]
  },
  {
   "cell_type": "code",
   "execution_count": 15,
   "metadata": {},
   "outputs": [],
   "source": [
    "hm.add_metrics(InteractionSimilarity(pairs))"
   ]
  },
  {
   "cell_type": "code",
   "execution_count": 16,
   "metadata": {},
   "outputs": [
    {
     "name": "stderr",
     "output_type": "stream",
     "text": [
      "100%|██████████| 10/10 [00:00<00:00, 146.29it/s]\n",
      " 18%|█▊        | 9/50 [00:00<00:00, 87.01it/s]"
     ]
    },
    {
     "name": "stdout",
     "output_type": "stream",
     "text": [
      "Homogenization proportion is 0\n",
      "Homogenization proportion is 0.1\n",
      "Homogenization proportion is 0.2\n",
      "Homogenization proportion is 0.30000000000000004\n",
      "Homogenization proportion is 0.4\n",
      "Homogenization proportion is 0.5\n",
      "Homogenization proportion is 0.6\n",
      "Homogenization proportion is 0.7\n",
      "Homogenization proportion is 0.7999999999999999\n",
      "Homogenization proportion is 0.8999999999999999\n",
      "Homogenization proportion is 0.9999999999999999\n",
      "Homogenization proportion is 1.0999999999999999\n",
      "Homogenization proportion is 1.0999999999999999\n",
      "Homogenization proportion is 1.0999999999999999\n",
      "Homogenization proportion is 1.0999999999999999\n",
      "Homogenization proportion is 1.0999999999999999\n",
      "Homogenization proportion is 1.0999999999999999\n",
      "Homogenization proportion is 1.0999999999999999\n",
      "Homogenization proportion is 1.0999999999999999\n",
      "Homogenization proportion is 1.0999999999999999\n",
      "Homogenization proportion is 1.0999999999999999\n"
     ]
    },
    {
     "name": "stderr",
     "output_type": "stream",
     "text": [
      " 46%|████▌     | 23/50 [00:00<00:00, 73.93it/s]"
     ]
    },
    {
     "name": "stdout",
     "output_type": "stream",
     "text": [
      "Homogenization proportion is 1.0999999999999999\n",
      "Homogenization proportion is 1.0999999999999999\n",
      "Homogenization proportion is 1.0999999999999999\n",
      "Homogenization proportion is 1.0999999999999999\n",
      "Homogenization proportion is 1.0999999999999999\n",
      "Homogenization proportion is 1.0999999999999999\n",
      "Homogenization proportion is 1.0999999999999999\n",
      "Homogenization proportion is 1.0999999999999999\n",
      "Homogenization proportion is 1.0999999999999999\n",
      "Homogenization proportion is 1.0999999999999999\n",
      "Homogenization proportion is 1.0999999999999999\n",
      "Homogenization proportion is 1.0999999999999999\n",
      "Homogenization proportion is 1.0999999999999999\n"
     ]
    },
    {
     "name": "stderr",
     "output_type": "stream",
     "text": [
      "\r",
      " 58%|█████▊    | 29/50 [00:00<00:00, 67.09it/s]"
     ]
    },
    {
     "name": "stdout",
     "output_type": "stream",
     "text": [
      "Homogenization proportion is 1.0999999999999999\n",
      "Homogenization proportion is 1.0999999999999999\n",
      "Homogenization proportion is 1.0999999999999999\n",
      "Homogenization proportion is 1.0999999999999999\n",
      "Homogenization proportion is 1.0999999999999999\n",
      "Homogenization proportion is 1.0999999999999999\n",
      "Homogenization proportion is 1.0999999999999999\n",
      "Homogenization proportion is 1.0999999999999999\n",
      "Homogenization proportion is 1.0999999999999999\n",
      "Homogenization proportion is 1.0999999999999999\n",
      "Homogenization proportion is 1.0999999999999999\n"
     ]
    },
    {
     "name": "stderr",
     "output_type": "stream",
     "text": [
      " 80%|████████  | 40/50 [00:00<00:00, 57.18it/s]"
     ]
    },
    {
     "name": "stdout",
     "output_type": "stream",
     "text": [
      "Homogenization proportion is 1.0999999999999999\n",
      "Homogenization proportion is 1.0999999999999999\n",
      "Homogenization proportion is 1.0999999999999999\n",
      "Homogenization proportion is 1.0999999999999999\n",
      "Homogenization proportion is 1.0999999999999999\n",
      "Homogenization proportion is 1.0999999999999999\n",
      "Homogenization proportion is 1.0999999999999999\n",
      "Homogenization proportion is 1.0999999999999999\n",
      "Homogenization proportion is 1.0999999999999999\n",
      "Homogenization proportion is 1.0999999999999999\n"
     ]
    },
    {
     "name": "stderr",
     "output_type": "stream",
     "text": [
      "100%|██████████| 50/50 [00:00<00:00, 57.63it/s]"
     ]
    },
    {
     "name": "stdout",
     "output_type": "stream",
     "text": [
      "Homogenization proportion is 1.0999999999999999\n",
      "Homogenization proportion is 1.0999999999999999\n",
      "Homogenization proportion is 1.0999999999999999\n",
      "Homogenization proportion is 1.0999999999999999\n",
      "Homogenization proportion is 1.0999999999999999\n"
     ]
    },
    {
     "name": "stderr",
     "output_type": "stream",
     "text": [
      "\n"
     ]
    }
   ],
   "source": [
    "hm.startup_and_train(timesteps=startup_iters)\n",
    "hm.run(**run_params)\n"
   ]
  },
  {
   "cell_type": "code",
   "execution_count": 17,
   "metadata": {},
   "outputs": [
    {
     "name": "stdout",
     "output_type": "stream",
     "text": [
      "Results of the simulation:\n"
     ]
    },
    {
     "data": {
      "text/html": [
       "<div>\n",
       "<style scoped>\n",
       "    .dataframe tbody tr th:only-of-type {\n",
       "        vertical-align: middle;\n",
       "    }\n",
       "\n",
       "    .dataframe tbody tr th {\n",
       "        vertical-align: top;\n",
       "    }\n",
       "\n",
       "    .dataframe thead th {\n",
       "        text-align: right;\n",
       "    }\n",
       "</style>\n",
       "<table border=\"1\" class=\"dataframe\">\n",
       "  <thead>\n",
       "    <tr style=\"text-align: right;\">\n",
       "      <th></th>\n",
       "      <th>mse</th>\n",
       "      <th>interaction_similarity</th>\n",
       "      <th>timesteps</th>\n",
       "    </tr>\n",
       "  </thead>\n",
       "  <tbody>\n",
       "    <tr>\n",
       "      <th>0</th>\n",
       "      <td>None</td>\n",
       "      <td>None</td>\n",
       "      <td>0</td>\n",
       "    </tr>\n",
       "    <tr>\n",
       "      <th>1</th>\n",
       "      <td>0.513638534579515</td>\n",
       "      <td>0.0</td>\n",
       "      <td>1</td>\n",
       "    </tr>\n",
       "    <tr>\n",
       "      <th>2</th>\n",
       "      <td>0.513638534579515</td>\n",
       "      <td>0.0</td>\n",
       "      <td>2</td>\n",
       "    </tr>\n",
       "    <tr>\n",
       "      <th>3</th>\n",
       "      <td>0.513638534579515</td>\n",
       "      <td>0.0</td>\n",
       "      <td>3</td>\n",
       "    </tr>\n",
       "    <tr>\n",
       "      <th>4</th>\n",
       "      <td>0.513638534579515</td>\n",
       "      <td>0.0</td>\n",
       "      <td>4</td>\n",
       "    </tr>\n",
       "    <tr>\n",
       "      <th>...</th>\n",
       "      <td>...</td>\n",
       "      <td>...</td>\n",
       "      <td>...</td>\n",
       "    </tr>\n",
       "    <tr>\n",
       "      <th>56</th>\n",
       "      <td>0.7805412411531798</td>\n",
       "      <td>0.5302257339794426</td>\n",
       "      <td>56</td>\n",
       "    </tr>\n",
       "    <tr>\n",
       "      <th>57</th>\n",
       "      <td>0.7805412411531798</td>\n",
       "      <td>0.5419597240992816</td>\n",
       "      <td>57</td>\n",
       "    </tr>\n",
       "    <tr>\n",
       "      <th>58</th>\n",
       "      <td>0.7805412411531798</td>\n",
       "      <td>0.5411721787173084</td>\n",
       "      <td>58</td>\n",
       "    </tr>\n",
       "    <tr>\n",
       "      <th>59</th>\n",
       "      <td>0.7805412411531798</td>\n",
       "      <td>0.5467105947212202</td>\n",
       "      <td>59</td>\n",
       "    </tr>\n",
       "    <tr>\n",
       "      <th>60</th>\n",
       "      <td>0.7805412411531798</td>\n",
       "      <td>0.5557326319560827</td>\n",
       "      <td>60</td>\n",
       "    </tr>\n",
       "  </tbody>\n",
       "</table>\n",
       "<p>61 rows × 3 columns</p>\n",
       "</div>"
      ],
      "text/plain": [
       "                   mse interaction_similarity  timesteps\n",
       "0                 None                   None          0\n",
       "1    0.513638534579515                    0.0          1\n",
       "2    0.513638534579515                    0.0          2\n",
       "3    0.513638534579515                    0.0          3\n",
       "4    0.513638534579515                    0.0          4\n",
       "..                 ...                    ...        ...\n",
       "56  0.7805412411531798     0.5302257339794426         56\n",
       "57  0.7805412411531798     0.5419597240992816         57\n",
       "58  0.7805412411531798     0.5411721787173084         58\n",
       "59  0.7805412411531798     0.5467105947212202         59\n",
       "60  0.7805412411531798     0.5557326319560827         60\n",
       "\n",
       "[61 rows x 3 columns]"
      ]
     },
     "execution_count": 17,
     "metadata": {},
     "output_type": "execute_result"
    }
   ],
   "source": [
    "results = hm.get_measurements()\n",
    "\n",
    "print(\"Results of the simulation:\")\n",
    "pd.DataFrame(results)"
   ]
  },
  {
   "cell_type": "code",
   "execution_count": 18,
   "metadata": {},
   "outputs": [
    {
     "data": {
      "text/plain": [
       "Text(0, 0.5, 'Interaction Similarity (Random Pairs)')"
      ]
     },
     "execution_count": 18,
     "metadata": {},
     "output_type": "execute_result"
    },
    {
     "data": {
      "image/png": "[encoded data removed]",
      "text/plain": [
       "<Figure size 432x288 with 1 Axes>"
      ]
     },
     "metadata": {},
     "output_type": "display_data"
    }
   ],
   "source": [
    "plt.style.use('seaborn-whitegrid')\n",
    "plt.rcParams.update({'font.size': 14})\n",
    "plt.plot(results['timesteps'], results['interaction_similarity'])\n",
    "plt.xlabel(\"Timesteps\")\n",
    "plt.ylabel(\"Interaction Similarity (Random Pairs)\")\n"
   ]
  },
  {
   "cell_type": "code",
   "execution_count": null,
   "metadata": {},
   "outputs": [],
   "source": []
  }
 ],
 "metadata": {
  "kernelspec": {
   "display_name": "trecsEnv",
   "language": "python",
   "name": "trecsenv"
  },
  "language_info": {
   "codemirror_mode": {
    "name": "ipython",
    "version": 3
   },
   "file_extension": ".py",
   "mimetype": "text/x-python",
   "name": "python",
   "nbconvert_exporter": "python",
   "pygments_lexer": "ipython3",
   "version": "3.7.9"
  }
 },
 "nbformat": 4,
 "nbformat_minor": 4
}
